{
  "cells": [
    {
      "cell_type": "markdown",
      "id": "81321d45",
      "metadata": {
        "id": "81321d45"
      },
      "source": [
        "<p style='font-size:15px;color:green;font-weight:bold'>필요한 라이브러리 불러오기</p>"
      ]
    },
    {
      "cell_type": "code",
      "execution_count": null,
      "id": "002e26cf",
      "metadata": {
        "id": "002e26cf"
      },
      "outputs": [],
      "source": [
        "#패키지 불러오기\n",
        "import pandas as pd\n",
        "import numpy as np\n",
        "import matplotlib.pyplot as plt\n",
        "import numpy as np"
      ]
    },
    {
      "cell_type": "markdown",
      "id": "172cba61",
      "metadata": {
        "id": "172cba61"
      },
      "source": [
        "<p style='font-size:15px;color:green;font-weight:bold'>데이터 전처리(유통 데이터)_시각화 활용(서론)</p>"
      ]
    },
    {
      "cell_type": "code",
      "execution_count": null,
      "id": "ab9ead58",
      "metadata": {
        "id": "ab9ead58"
      },
      "outputs": [],
      "source": [
        "#데이터 파일 불러오기\n",
        "#데이터 출처: 농림축산식품 공공데이터 포털\n",
        "import_2017=pd.read_csv(\"./import_api_data/datas_2017.csv\", encoding = 'cp949')\n",
        "import_2018=pd.read_csv(\"./import_api_data/datas_2018.csv\", encoding = 'cp949')\n",
        "import_2019=pd.read_csv(\"./import_api_data/datas_2019.csv\", encoding = 'cp949')\n",
        "import_2020=pd.read_csv(\"./import_api_data/datas_2020.csv\", encoding = 'cp949')\n",
        "import_2021=pd.read_csv(\"./import_api_data/datas_2021.csv\", encoding = 'cp949')\n",
        "import_2022=pd.read_csv(\"./import_api_data/datas_2022.csv\", encoding = 'cp949')\n",
        "\n",
        "#2017년~2022년 유통 데이터"
      ]
    },
    {
      "cell_type": "code",
      "execution_count": null,
      "id": "c42af360",
      "metadata": {
        "id": "c42af360"
      },
      "outputs": [],
      "source": [
        "#각 데이터세트의 날짜 데이터 형태 변환\n",
        "#API를 활용해 데이터를 불러오는 과정에서 문자가 포함된 데이터 수정 작업\n",
        "\n",
        "#2017년\n",
        "import_2017[['IMPORT_DE']] = import_2017[['IMPORT_DE']].applymap(str).applymap(lambda s: \"{}\".format(s[11:19]))\n",
        "import_2017[['DISTB_TMLMT_START_DE']] = import_2017[['DISTB_TMLMT_START_DE']].applymap(str).applymap(lambda s: \"{}\".format(s[22:30]))\n",
        "import_2017[['DISTB_TMLMT_END_DE']] = import_2017[['DISTB_TMLMT_END_DE']].applymap(str).applymap(lambda s: \"{}\".format(s[20:28]))\n",
        "\n",
        "#2018년\n",
        "import_2018[['IMPORT_DE']] = import_2018[['IMPORT_DE']].applymap(str).applymap(lambda s: \"{}\".format(s[11:19]))\n",
        "import_2018[['DISTB_TMLMT_START_DE']] = import_2018[['DISTB_TMLMT_START_DE']].applymap(str).applymap(lambda s: \"{}\".format(s[22:30]))\n",
        "import_2018[['DISTB_TMLMT_END_DE']] = import_2018[['DISTB_TMLMT_END_DE']].applymap(str).applymap(lambda s: \"{}\".format(s[20:28]))\n",
        "\n",
        "#2019년\n",
        "import_2019[['IMPORT_DE']] = import_2019[['IMPORT_DE']].applymap(str).applymap(lambda s: \"{}\".format(s[11:19]))\n",
        "import_2019[['DISTB_TMLMT_START_DE']] = import_2019[['DISTB_TMLMT_START_DE']].applymap(str).applymap(lambda s: \"{}\".format(s[22:30]))\n",
        "import_2019[['DISTB_TMLMT_END_DE']] = import_2019[['DISTB_TMLMT_END_DE']].applymap(str).applymap(lambda s: \"{}\".format(s[20:28]))\n",
        "\n",
        "#2020년\n",
        "import_2020[['DISTB_TMLMT_START_DE']] = import_2020[['DISTB_TMLMT_START_DE']].applymap(str).applymap(lambda s: \"{}\".format(s[22:30]))\n",
        "import_2020[['DISTB_TMLMT_END_DE']] = import_2020[['DISTB_TMLMT_END_DE']].applymap(str).applymap(lambda s: \"{}\".format(s[20:28]))\n",
        "import_2020.head(3)\n",
        "\n",
        "#2021년\n",
        "import_2021[['IMPORT_DE']] = import_2021[['IMPORT_DE']].applymap(str).applymap(lambda s: \"{}\".format(s[11:19]))\n",
        "import_2021[['DISTB_TMLMT_START_DE']] = import_2021[['DISTB_TMLMT_START_DE']].applymap(str).applymap(lambda s: \"{}\".format(s[22:30]))\n",
        "import_2021[['DISTB_TMLMT_END_DE']] = import_2021[['DISTB_TMLMT_END_DE']].applymap(str).applymap(lambda s: \"{}\".format(s[20:28]))\n",
        "\n",
        "#2022년\n",
        "import_2022[['DISTB_TMLMT_START_DE']] = import_2022[['DISTB_TMLMT_START_DE']].applymap(str).applymap(lambda s: \"{}\".format(s[22:30]))\n",
        "import_2022[['DISTB_TMLMT_END_DE']] = import_2022[['DISTB_TMLMT_END_DE']].applymap(str).applymap(lambda s: \"{}\".format(s[20:28]))"
      ]
    },
    {
      "cell_type": "code",
      "execution_count": null,
      "id": "cd7c407e",
      "metadata": {
        "id": "cd7c407e",
        "outputId": "51687872-8d94-4568-ddf7-11da7e6cd362"
      },
      "outputs": [
        {
          "data": {
            "text/plain": [
              "(6601, 23)"
            ]
          },
          "execution_count": 4,
          "metadata": {},
          "output_type": "execute_result"
        }
      ],
      "source": [
        "#2017년~2022년 데이터 하나의 데이터 세트로 통합\n",
        "import_data=pd.concat([import_2017,import_2018,import_2019,import_2020,import_2021,import_2022])\n",
        "import_data.shape"
      ]
    },
    {
      "cell_type": "code",
      "execution_count": null,
      "id": "89f60c7d",
      "metadata": {
        "id": "89f60c7d"
      },
      "outputs": [],
      "source": [
        "#불필요한 데이터 속성 제거\n",
        "import_data=import_data.drop(\"Unnamed: 0\", axis=1)\n",
        "import_data=import_data.drop(\"DISTB_IDNTFC_NO\", axis=1)\n",
        "import_data=import_data.drop(\"STTUS\", axis=1)\n",
        "import_data=import_data.drop(\"ORGPLCE_NATION\", axis=1)\n",
        "import_data=import_data.drop(\"ROW_NUM\", axis=1)\n",
        "import_data=import_data.drop(\"OWR_CD\", axis=1)\n",
        "import_data=import_data.drop(\"REFRIG_CNVRS_SE\", axis=1)\n",
        "import_data=import_data.drop(\"SLE_AT\", axis=1)\n",
        "import_data=import_data.drop(\"EXCOURY_SLAU_START_DE\", axis=1)\n",
        "import_data=import_data.drop(\"EXCOURY_SLAU_END_DE\", axis=1)\n",
        "import_data=import_data.drop(\"EXCOURY_PRCSS_START_DE\", axis=1)\n",
        "import_data=import_data.drop(\"EXCOURY_PRCSS_END_DE\", axis=1)\n",
        "import_data=import_data.drop(\"BL_NO\", axis=1)"
      ]
    },
    {
      "cell_type": "code",
      "execution_count": null,
      "id": "0eb0c90c",
      "metadata": {
        "id": "0eb0c90c",
        "outputId": "9a7b8d40-96c1-4d3a-ec1d-9ff9d14fd8f7"
      },
      "outputs": [
        {
          "data": {
            "text/html": [
              "<div>\n",
              "<style scoped>\n",
              "    .dataframe tbody tr th:only-of-type {\n",
              "        vertical-align: middle;\n",
              "    }\n",
              "\n",
              "    .dataframe tbody tr th {\n",
              "        vertical-align: top;\n",
              "    }\n",
              "\n",
              "    .dataframe thead th {\n",
              "        text-align: right;\n",
              "    }\n",
              "</style>\n",
              "<table border=\"1\" class=\"dataframe\">\n",
              "  <thead>\n",
              "    <tr style=\"text-align: right;\">\n",
              "      <th></th>\n",
              "      <th>SE</th>\n",
              "      <th>PRDLST_CD</th>\n",
              "      <th>PRDLST_NM</th>\n",
              "      <th>STTUS_SE</th>\n",
              "      <th>IMPORT_DE</th>\n",
              "      <th>ORGPLCE_CD</th>\n",
              "      <th>QY</th>\n",
              "      <th>WT</th>\n",
              "      <th>DISTB_TMLMT_START_DE</th>\n",
              "      <th>DISTB_TMLMT_END_DE</th>\n",
              "    </tr>\n",
              "  </thead>\n",
              "  <tbody>\n",
              "    <tr>\n",
              "      <th>0</th>\n",
              "      <td>1</td>\n",
              "      <td>2110111121</td>\n",
              "      <td>냉장쇠고기</td>\n",
              "      <td>0</td>\n",
              "      <td>2017-01-02</td>\n",
              "      <td>AU</td>\n",
              "      <td>149</td>\n",
              "      <td>2708.45</td>\n",
              "      <td>2017-03-04</td>\n",
              "      <td>2017-03-04</td>\n",
              "    </tr>\n",
              "    <tr>\n",
              "      <th>1</th>\n",
              "      <td>1</td>\n",
              "      <td>2110111221</td>\n",
              "      <td>냉동쇠고기</td>\n",
              "      <td>0</td>\n",
              "      <td>2017-01-02</td>\n",
              "      <td>AU</td>\n",
              "      <td>700</td>\n",
              "      <td>19040.00</td>\n",
              "      <td>2018-10-11</td>\n",
              "      <td>2018-11-27</td>\n",
              "    </tr>\n",
              "    <tr>\n",
              "      <th>2</th>\n",
              "      <td>1</td>\n",
              "      <td>2110143101</td>\n",
              "      <td>냉장소횡격막</td>\n",
              "      <td>0</td>\n",
              "      <td>2017-01-02</td>\n",
              "      <td>AU</td>\n",
              "      <td>20</td>\n",
              "      <td>202.80</td>\n",
              "      <td>2017-02-28</td>\n",
              "      <td>2017-03-01</td>\n",
              "    </tr>\n",
              "  </tbody>\n",
              "</table>\n",
              "</div>"
            ],
            "text/plain": [
              "   SE   PRDLST_CD PRDLST_NM  STTUS_SE   IMPORT_DE ORGPLCE_CD   QY        WT  \\\n",
              "0   1  2110111121     냉장쇠고기         0  2017-01-02         AU  149   2708.45   \n",
              "1   1  2110111221     냉동쇠고기         0  2017-01-02         AU  700  19040.00   \n",
              "2   1  2110143101    냉장소횡격막         0  2017-01-02         AU   20    202.80   \n",
              "\n",
              "  DISTB_TMLMT_START_DE DISTB_TMLMT_END_DE  \n",
              "0           2017-03-04         2017-03-04  \n",
              "1           2018-10-11         2018-11-27  \n",
              "2           2017-02-28         2017-03-01  "
            ]
          },
          "execution_count": 6,
          "metadata": {},
          "output_type": "execute_result"
        }
      ],
      "source": [
        "#날짜 데이터 형태 변경(yyyymm -> yyyy-mm)\n",
        "import_data[['IMPORT_DE']] = import_data[['IMPORT_DE']].applymap(str).applymap(lambda s: \"{}-{}-{}\".format(s[0:4],s[4:6],s[6:]))\n",
        "import_data[['DISTB_TMLMT_START_DE']] = import_data[['DISTB_TMLMT_START_DE']].applymap(str).applymap(lambda s: \"{}-{}-{}\".format(s[0:4],s[4:6],s[6:]))\n",
        "import_data[['DISTB_TMLMT_END_DE']] = import_data[['DISTB_TMLMT_END_DE']].applymap(str).applymap(lambda s: \"{}-{}-{}\".format(s[0:4],s[4:6],s[6:]))\n",
        "import_data.head(3)"
      ]
    },
    {
      "cell_type": "markdown",
      "id": "56d5cc7d",
      "metadata": {
        "id": "56d5cc7d"
      },
      "source": [
        "<p style='font-size:15px;color:green;font-weight:bold'>데이터 전처리(질병 데이터)_시각화 활용(서론)</p>"
      ]
    },
    {
      "cell_type": "code",
      "execution_count": null,
      "id": "564493de",
      "metadata": {
        "id": "564493de"
      },
      "outputs": [],
      "source": [
        "#데이터 파일 불러오기\n",
        "#데이터 출처: 농림축산식품 공공데이터 포털\n",
        "diease_data=pd.read_csv(\"./diease_data.csv\", encoding = 'cp949')"
      ]
    },
    {
      "cell_type": "code",
      "execution_count": null,
      "id": "07ed6a7e",
      "metadata": {
        "id": "07ed6a7e"
      },
      "outputs": [],
      "source": [
        "#모델에 적용할 데이터(소, 돼지, 닭)만 추출\n",
        "diease_data_pig=diease_data[diease_data['LVSTCKSPC_NM'].str.contains('돼지')]\n",
        "diease_data_chicken=diease_data[diease_data['LVSTCKSPC_NM'].str.contains('닭')]\n",
        "diease_data_cow=diease_data[diease_data['LVSTCKSPC_NM'].str.contains('소')]"
      ]
    },
    {
      "cell_type": "code",
      "execution_count": null,
      "id": "4d92adc1",
      "metadata": {
        "id": "4d92adc1",
        "outputId": "e0dda5ba-a921-4c76-f7de-ef60cfc54317"
      },
      "outputs": [
        {
          "name": "stderr",
          "output_type": "stream",
          "text": [
            "C:\\Users\\jungm\\AppData\\Local\\Temp\\ipykernel_16740\\642555378.py:2: SettingWithCopyWarning: \n",
            "A value is trying to be set on a copy of a slice from a DataFrame.\n",
            "Try using .loc[row_indexer,col_indexer] = value instead\n",
            "\n",
            "See the caveats in the documentation: https://pandas.pydata.org/pandas-docs/stable/user_guide/indexing.html#returning-a-view-versus-a-copy\n",
            "  diease_data_pig[['LVSTCKSPC_NM']] = diease_data_pig[['LVSTCKSPC_NM']].applymap(str).applymap(lambda s: \"{}\".format(s[0:2]))\n",
            "C:\\Users\\jungm\\AppData\\Local\\Temp\\ipykernel_16740\\642555378.py:3: SettingWithCopyWarning: \n",
            "A value is trying to be set on a copy of a slice from a DataFrame.\n",
            "Try using .loc[row_indexer,col_indexer] = value instead\n",
            "\n",
            "See the caveats in the documentation: https://pandas.pydata.org/pandas-docs/stable/user_guide/indexing.html#returning-a-view-versus-a-copy\n",
            "  diease_data_chicken[['LVSTCKSPC_NM']] = diease_data_chicken[['LVSTCKSPC_NM']].applymap(str).applymap(lambda s: \"{}\".format(s[0:1]))\n",
            "C:\\Users\\jungm\\AppData\\Local\\Temp\\ipykernel_16740\\642555378.py:4: SettingWithCopyWarning: \n",
            "A value is trying to be set on a copy of a slice from a DataFrame.\n",
            "Try using .loc[row_indexer,col_indexer] = value instead\n",
            "\n",
            "See the caveats in the documentation: https://pandas.pydata.org/pandas-docs/stable/user_guide/indexing.html#returning-a-view-versus-a-copy\n",
            "  diease_data_cow[['LVSTCKSPC_NM']] = diease_data_cow[['LVSTCKSPC_NM']].applymap(str).applymap(lambda s: \"{}\".format(s[0:1]))\n"
          ]
        }
      ],
      "source": [
        "#데이터 값들 중 필요한 문자열만 추출\n",
        "diease_data_pig[['LVSTCKSPC_NM']] = diease_data_pig[['LVSTCKSPC_NM']].applymap(str).applymap(lambda s: \"{}\".format(s[0:2]))\n",
        "diease_data_chicken[['LVSTCKSPC_NM']] = diease_data_chicken[['LVSTCKSPC_NM']].applymap(str).applymap(lambda s: \"{}\".format(s[0:1]))\n",
        "diease_data_cow[['LVSTCKSPC_NM']] = diease_data_cow[['LVSTCKSPC_NM']].applymap(str).applymap(lambda s: \"{}\".format(s[0:1]))"
      ]
    },
    {
      "cell_type": "code",
      "execution_count": null,
      "id": "0d68670c",
      "metadata": {
        "id": "0d68670c"
      },
      "outputs": [],
      "source": [
        "#각 가축 데이터 하나의 데이터 세트로 통합\n",
        "diease_data = pd.concat([diease_data_pig,diease_data_chicken,diease_data_cow])"
      ]
    },
    {
      "cell_type": "code",
      "execution_count": null,
      "id": "8df8177f",
      "metadata": {
        "id": "8df8177f"
      },
      "outputs": [],
      "source": [
        "#불필요한 데이터 속성 제거\n",
        "diease_data=diease_data.drop(\"Unnamed: 0\", axis=1)"
      ]
    },
    {
      "cell_type": "code",
      "execution_count": null,
      "id": "b6edbfb3",
      "metadata": {
        "id": "b6edbfb3",
        "outputId": "44aff073-ec63-48a6-982e-3366c8f73b0c"
      },
      "outputs": [
        {
          "data": {
            "text/html": [
              "<div>\n",
              "<style scoped>\n",
              "    .dataframe tbody tr th:only-of-type {\n",
              "        vertical-align: middle;\n",
              "    }\n",
              "\n",
              "    .dataframe tbody tr th {\n",
              "        vertical-align: top;\n",
              "    }\n",
              "\n",
              "    .dataframe thead th {\n",
              "        text-align: right;\n",
              "    }\n",
              "</style>\n",
              "<table border=\"1\" class=\"dataframe\">\n",
              "  <thead>\n",
              "    <tr style=\"text-align: right;\">\n",
              "      <th></th>\n",
              "      <th>ICTSD_OCCRRNC_NO</th>\n",
              "      <th>LKNTS_NM</th>\n",
              "      <th>FARM_NM</th>\n",
              "      <th>FARM_LOCPLC_LEGALDONG_CODE</th>\n",
              "      <th>FARM_LOCPLC</th>\n",
              "      <th>OCCRRNC_DE</th>\n",
              "      <th>LVSTCKSPC_CODE</th>\n",
              "      <th>LVSTCKSPC_NM</th>\n",
              "      <th>OCCRRNC_LVSTCKCNT</th>\n",
              "      <th>DGNSS_ENGN_CODE</th>\n",
              "      <th>DGNSS_ENGN_NM</th>\n",
              "      <th>CESSATION_DE</th>\n",
              "    </tr>\n",
              "  </thead>\n",
              "  <tbody>\n",
              "    <tr>\n",
              "      <th>94</th>\n",
              "      <td>146239</td>\n",
              "      <td>돼지생식기호흡기증후군</td>\n",
              "      <td>0</td>\n",
              "      <td>5011025025</td>\n",
              "      <td>제주특별자치도 제주시 한림읍 금악리</td>\n",
              "      <td>2017-01-31</td>\n",
              "      <td>413005</td>\n",
              "      <td>돼지</td>\n",
              "      <td>3</td>\n",
              "      <td>6500320</td>\n",
              "      <td>제주 동물위생시험소</td>\n",
              "      <td>0</td>\n",
              "    </tr>\n",
              "    <tr>\n",
              "      <th>167</th>\n",
              "      <td>147212</td>\n",
              "      <td>돼지생식기호흡기증후군</td>\n",
              "      <td>조수행</td>\n",
              "      <td>4480034029</td>\n",
              "      <td>충청남도 홍성군 장곡면 지정리</td>\n",
              "      <td>2017-02-28</td>\n",
              "      <td>413017</td>\n",
              "      <td>돼지</td>\n",
              "      <td>0</td>\n",
              "      <td>6440952</td>\n",
              "      <td>충남 동물위생시험소</td>\n",
              "      <td>0</td>\n",
              "    </tr>\n",
              "    <tr>\n",
              "      <th>184</th>\n",
              "      <td>147397</td>\n",
              "      <td>돼지생식기호흡기증후군</td>\n",
              "      <td>정일농장</td>\n",
              "      <td>5011031024</td>\n",
              "      <td>제주특별자치도 제주시 한경면 판포리</td>\n",
              "      <td>2017-03-07</td>\n",
              "      <td>413005</td>\n",
              "      <td>돼지</td>\n",
              "      <td>1</td>\n",
              "      <td>6500320</td>\n",
              "      <td>제주 동물위생시험소</td>\n",
              "      <td>0</td>\n",
              "    </tr>\n",
              "  </tbody>\n",
              "</table>\n",
              "</div>"
            ],
            "text/plain": [
              "     ICTSD_OCCRRNC_NO     LKNTS_NM FARM_NM  FARM_LOCPLC_LEGALDONG_CODE  \\\n",
              "94             146239  돼지생식기호흡기증후군       0                  5011025025   \n",
              "167            147212  돼지생식기호흡기증후군     조수행                  4480034029   \n",
              "184            147397  돼지생식기호흡기증후군    정일농장                  5011031024   \n",
              "\n",
              "             FARM_LOCPLC  OCCRRNC_DE  LVSTCKSPC_CODE LVSTCKSPC_NM  \\\n",
              "94   제주특별자치도 제주시 한림읍 금악리  2017-01-31          413005           돼지   \n",
              "167     충청남도 홍성군 장곡면 지정리  2017-02-28          413017           돼지   \n",
              "184  제주특별자치도 제주시 한경면 판포리  2017-03-07          413005           돼지   \n",
              "\n",
              "     OCCRRNC_LVSTCKCNT DGNSS_ENGN_CODE DGNSS_ENGN_NM  CESSATION_DE  \n",
              "94                   3         6500320    제주 동물위생시험소             0  \n",
              "167                  0         6440952    충남 동물위생시험소             0  \n",
              "184                  1         6500320    제주 동물위생시험소             0  "
            ]
          },
          "execution_count": 12,
          "metadata": {},
          "output_type": "execute_result"
        }
      ],
      "source": [
        "#날짜 데이터 형태 변경(yyyymm -> yyyy-mm)\n",
        "diease_data[['OCCRRNC_DE']] = diease_data[['OCCRRNC_DE']].applymap(str).applymap(lambda s: \"{}-{}-{}\".format(s[0:4],s[4:6],s[6:]))\n",
        "diease_data.head(3)"
      ]
    },
    {
      "cell_type": "markdown",
      "id": "f4b8e0d7",
      "metadata": {
        "id": "f4b8e0d7"
      },
      "source": [
        "<p style='font-size:15px;color:green;font-weight:bold'>데이터 전처리(가격 데이터)_예측 모델 활용(본론)</p>"
      ]
    },
    {
      "cell_type": "code",
      "execution_count": null,
      "id": "3870da4f",
      "metadata": {
        "id": "3870da4f",
        "outputId": "b4812c15-07c1-412f-e230-e9c95cf64cd0"
      },
      "outputs": [
        {
          "name": "stderr",
          "output_type": "stream",
          "text": [
            "C:\\Users\\jungm\\AppData\\Local\\Temp\\ipykernel_16740\\540023314.py:3: DtypeWarning: Columns (25) have mixed types. Specify dtype option on import or set low_memory=False.\n",
            "  p17=pd.read_csv(\"./price_data_2017.csv\", encoding = 'euc-kr')\n",
            "C:\\Users\\jungm\\AppData\\Local\\Temp\\ipykernel_16740\\540023314.py:4: DtypeWarning: Columns (25) have mixed types. Specify dtype option on import or set low_memory=False.\n",
            "  p18=pd.read_csv(\"./price_data_2018.csv\", encoding = 'euc-kr')\n",
            "C:\\Users\\jungm\\AppData\\Local\\Temp\\ipykernel_16740\\540023314.py:6: DtypeWarning: Columns (13,17) have mixed types. Specify dtype option on import or set low_memory=False.\n",
            "  p20=pd.read_csv(\"./price_data_2020.csv\", encoding = 'euc-kr')\n"
          ]
        }
      ],
      "source": [
        "#데이터 파일 불러오기\n",
        "#데이터 출처: KADX 농식품 빅데이터 거래소\n",
        "p17=pd.read_csv(\"./price_data_2017.csv\", encoding = 'euc-kr')\n",
        "p18=pd.read_csv(\"./price_data_2018.csv\", encoding = 'euc-kr')\n",
        "p19=pd.read_csv(\"./price_data_2019.csv\", encoding = 'euc-kr')\n",
        "p20=pd.read_csv(\"./price_data_2020.csv\", encoding = 'euc-kr')\n",
        "p21=pd.read_csv(\"./price_data_2021.csv\", encoding = 'euc-kr')\n",
        "p22=pd.read_csv(\"./price_data_2022.csv\", encoding = 'euc-kr')"
      ]
    },
    {
      "cell_type": "code",
      "execution_count": null,
      "id": "6d7d76b2",
      "metadata": {
        "id": "6d7d76b2",
        "outputId": "6ba7643b-6ea6-468d-8a6f-a20679ca55a2"
      },
      "outputs": [
        {
          "data": {
            "text/html": [
              "<div>\n",
              "<style scoped>\n",
              "    .dataframe tbody tr th:only-of-type {\n",
              "        vertical-align: middle;\n",
              "    }\n",
              "\n",
              "    .dataframe tbody tr th {\n",
              "        vertical-align: top;\n",
              "    }\n",
              "\n",
              "    .dataframe thead th {\n",
              "        text-align: right;\n",
              "    }\n",
              "</style>\n",
              "<table border=\"1\" class=\"dataframe\">\n",
              "  <thead>\n",
              "    <tr style=\"text-align: right;\">\n",
              "      <th></th>\n",
              "      <th>PRCE_REG_YMD</th>\n",
              "      <th>MRKT_ESNT_NO</th>\n",
              "      <th>MRKT_CODE</th>\n",
              "      <th>MRKT_NM</th>\n",
              "      <th>CTNP_CODE</th>\n",
              "      <th>CTNP_NM</th>\n",
              "      <th>SGGU_CODE</th>\n",
              "      <th>SGGU_NM</th>\n",
              "      <th>PDLT_CODE</th>\n",
              "      <th>PDLT_NM</th>\n",
              "      <th>...</th>\n",
              "      <th>MTC_SMT_UNIT_MG</th>\n",
              "      <th>MTC_SMT_UNIT_NM</th>\n",
              "      <th>WHSL_SMT_UNIT_MG</th>\n",
              "      <th>WHSL_SMT_UNIT_NM</th>\n",
              "      <th>RTSL_SMT_UNIT_MG</th>\n",
              "      <th>RTSL_SMT_UNIT_NM</th>\n",
              "      <th>EVFD_FMPD_SMT_UNIT_MG</th>\n",
              "      <th>EVFD_FMPD_SMT_UNIT_NM</th>\n",
              "      <th>DCNT_PRCE_YN</th>\n",
              "      <th>ETL_LDG_DT</th>\n",
              "    </tr>\n",
              "  </thead>\n",
              "  <tbody>\n",
              "    <tr>\n",
              "      <th>0</th>\n",
              "      <td>20170102</td>\n",
              "      <td>289</td>\n",
              "      <td>370001</td>\n",
              "      <td>죽도</td>\n",
              "      <td>37</td>\n",
              "      <td>경북</td>\n",
              "      <td>3711</td>\n",
              "      <td>포항</td>\n",
              "      <td>151.0</td>\n",
              "      <td>고구마</td>\n",
              "      <td>...</td>\n",
              "      <td>20</td>\n",
              "      <td>kg</td>\n",
              "      <td>10.0</td>\n",
              "      <td>kg</td>\n",
              "      <td>1.0</td>\n",
              "      <td>kg</td>\n",
              "      <td>1.0</td>\n",
              "      <td>kg</td>\n",
              "      <td>NaN</td>\n",
              "      <td>2.021061e+13</td>\n",
              "    </tr>\n",
              "    <tr>\n",
              "      <th>1</th>\n",
              "      <td>20170102</td>\n",
              "      <td>289</td>\n",
              "      <td>370001</td>\n",
              "      <td>죽도</td>\n",
              "      <td>37</td>\n",
              "      <td>경북</td>\n",
              "      <td>3711</td>\n",
              "      <td>포항</td>\n",
              "      <td>152.0</td>\n",
              "      <td>감자</td>\n",
              "      <td>...</td>\n",
              "      <td>NaN</td>\n",
              "      <td>NaN</td>\n",
              "      <td>20.0</td>\n",
              "      <td>kg</td>\n",
              "      <td>100.0</td>\n",
              "      <td>g</td>\n",
              "      <td>100.0</td>\n",
              "      <td>g</td>\n",
              "      <td>NaN</td>\n",
              "      <td>2.021061e+13</td>\n",
              "    </tr>\n",
              "    <tr>\n",
              "      <th>2</th>\n",
              "      <td>20170102</td>\n",
              "      <td>289</td>\n",
              "      <td>370001</td>\n",
              "      <td>죽도</td>\n",
              "      <td>37</td>\n",
              "      <td>경북</td>\n",
              "      <td>3711</td>\n",
              "      <td>포항</td>\n",
              "      <td>211.0</td>\n",
              "      <td>배추</td>\n",
              "      <td>...</td>\n",
              "      <td>1</td>\n",
              "      <td>kg</td>\n",
              "      <td>10.0</td>\n",
              "      <td>kg</td>\n",
              "      <td>1.0</td>\n",
              "      <td>포기</td>\n",
              "      <td>NaN</td>\n",
              "      <td>NaN</td>\n",
              "      <td>NaN</td>\n",
              "      <td>2.021061e+13</td>\n",
              "    </tr>\n",
              "  </tbody>\n",
              "</table>\n",
              "<p>3 rows × 27 columns</p>\n",
              "</div>"
            ],
            "text/plain": [
              "   PRCE_REG_YMD  MRKT_ESNT_NO  MRKT_CODE MRKT_NM  CTNP_CODE CTNP_NM  \\\n",
              "0      20170102           289     370001      죽도         37      경북   \n",
              "1      20170102           289     370001      죽도         37      경북   \n",
              "2      20170102           289     370001      죽도         37      경북   \n",
              "\n",
              "   SGGU_CODE SGGU_NM  PDLT_CODE PDLT_NM  ...  MTC_SMT_UNIT_MG MTC_SMT_UNIT_NM  \\\n",
              "0       3711      포항      151.0     고구마  ...               20              kg   \n",
              "1       3711      포항      152.0      감자  ...              NaN             NaN   \n",
              "2       3711      포항      211.0      배추  ...                1              kg   \n",
              "\n",
              "   WHSL_SMT_UNIT_MG WHSL_SMT_UNIT_NM  RTSL_SMT_UNIT_MG RTSL_SMT_UNIT_NM  \\\n",
              "0              10.0               kg               1.0               kg   \n",
              "1              20.0               kg             100.0                g   \n",
              "2              10.0               kg               1.0               포기   \n",
              "\n",
              "   EVFD_FMPD_SMT_UNIT_MG EVFD_FMPD_SMT_UNIT_NM DCNT_PRCE_YN    ETL_LDG_DT  \n",
              "0                    1.0                    kg          NaN  2.021061e+13  \n",
              "1                  100.0                     g          NaN  2.021061e+13  \n",
              "2                    NaN                   NaN          NaN  2.021061e+13  \n",
              "\n",
              "[3 rows x 27 columns]"
            ]
          },
          "execution_count": 14,
          "metadata": {},
          "output_type": "execute_result"
        }
      ],
      "source": [
        "#2017년~2022년 데이터 하나의 데이터 세트로 통합\n",
        "price_data = pd.concat([p17,p18,p19,p20,p21,p22])\n",
        "price_data.head(3)"
      ]
    },
    {
      "cell_type": "code",
      "execution_count": null,
      "id": "a82a79a6",
      "metadata": {
        "id": "a82a79a6"
      },
      "outputs": [],
      "source": [
        "#불필요한 데이터 속성 제거\n",
        "price_data=price_data.drop(labels='MTC_SMT_UNIT_MG', axis=1)\n",
        "price_data=price_data.drop(labels='MTC_SMT_UNIT_NM', axis=1)\n",
        "price_data=price_data.drop(labels='EVFD_FMPD_SMT_UNIT_MG', axis=1)\n",
        "price_data=price_data.drop(labels='EVFD_FMPD_SMT_UNIT_NM', axis=1)\n",
        "price_data=price_data.drop(\"MRKT_NM\", axis=1)\n",
        "price_data=price_data.drop(\"MRKT_CODE\", axis=1)\n",
        "price_data=price_data.drop(\"CTNP_NM\", axis=1)\n",
        "price_data=price_data.drop(\"SGGU_CODE\", axis=1)\n",
        "price_data=price_data.drop(\"SGGU_NM\", axis=1)\n",
        "price_data=price_data.drop(\"ETL_LDG_DT\", axis=1)\n",
        "price_data=price_data.drop(\"WHSL_SMT_UNIT_MG\", axis=1)\n",
        "price_data=price_data.drop(\"WHSL_SMT_UNIT_NM\", axis=1)\n",
        "price_data=price_data.drop(\"BULK_GRAD_NM\", axis=1)"
      ]
    },
    {
      "cell_type": "code",
      "execution_count": null,
      "id": "1c5dc614",
      "metadata": {
        "id": "1c5dc614",
        "outputId": "be3d0097-6db0-49e7-f4e1-f996972dcfa7"
      },
      "outputs": [
        {
          "data": {
            "text/html": [
              "<div>\n",
              "<style scoped>\n",
              "    .dataframe tbody tr th:only-of-type {\n",
              "        vertical-align: middle;\n",
              "    }\n",
              "\n",
              "    .dataframe tbody tr th {\n",
              "        vertical-align: top;\n",
              "    }\n",
              "\n",
              "    .dataframe thead th {\n",
              "        text-align: right;\n",
              "    }\n",
              "</style>\n",
              "<table border=\"1\" class=\"dataframe\">\n",
              "  <thead>\n",
              "    <tr style=\"text-align: right;\">\n",
              "      <th></th>\n",
              "      <th>PRCE_REG_YMD</th>\n",
              "      <th>MRKT_ESNT_NO</th>\n",
              "      <th>CTNP_CODE</th>\n",
              "      <th>PDLT_CODE</th>\n",
              "      <th>PDLT_NM</th>\n",
              "      <th>SPCS_CODE</th>\n",
              "      <th>SPCS_NM</th>\n",
              "      <th>WSRT_EXMN_SE_CODE</th>\n",
              "      <th>EXMN_SE_NM</th>\n",
              "      <th>BULK_GRAD_CODE</th>\n",
              "      <th>PDLT_PRCE</th>\n",
              "      <th>RTSL_SMT_UNIT_MG</th>\n",
              "      <th>RTSL_SMT_UNIT_NM</th>\n",
              "      <th>DCNT_PRCE_YN</th>\n",
              "    </tr>\n",
              "  </thead>\n",
              "  <tbody>\n",
              "    <tr>\n",
              "      <th>0</th>\n",
              "      <td>20170102</td>\n",
              "      <td>289</td>\n",
              "      <td>37</td>\n",
              "      <td>151.0</td>\n",
              "      <td>고구마</td>\n",
              "      <td>0.0</td>\n",
              "      <td>밤</td>\n",
              "      <td>1.0</td>\n",
              "      <td>소매</td>\n",
              "      <td>4.0</td>\n",
              "      <td>5000.0</td>\n",
              "      <td>1.0</td>\n",
              "      <td>kg</td>\n",
              "      <td>0</td>\n",
              "    </tr>\n",
              "    <tr>\n",
              "      <th>1</th>\n",
              "      <td>20170102</td>\n",
              "      <td>289</td>\n",
              "      <td>37</td>\n",
              "      <td>152.0</td>\n",
              "      <td>감자</td>\n",
              "      <td>1.0</td>\n",
              "      <td>수미</td>\n",
              "      <td>1.0</td>\n",
              "      <td>소매</td>\n",
              "      <td>4.0</td>\n",
              "      <td>270.0</td>\n",
              "      <td>100.0</td>\n",
              "      <td>g</td>\n",
              "      <td>0</td>\n",
              "    </tr>\n",
              "    <tr>\n",
              "      <th>2</th>\n",
              "      <td>20170102</td>\n",
              "      <td>289</td>\n",
              "      <td>37</td>\n",
              "      <td>211.0</td>\n",
              "      <td>배추</td>\n",
              "      <td>6.0</td>\n",
              "      <td>월동</td>\n",
              "      <td>1.0</td>\n",
              "      <td>소매</td>\n",
              "      <td>4.0</td>\n",
              "      <td>4000.0</td>\n",
              "      <td>1.0</td>\n",
              "      <td>포기</td>\n",
              "      <td>0</td>\n",
              "    </tr>\n",
              "    <tr>\n",
              "      <th>3</th>\n",
              "      <td>20170102</td>\n",
              "      <td>289</td>\n",
              "      <td>37</td>\n",
              "      <td>212.0</td>\n",
              "      <td>양배추</td>\n",
              "      <td>0.0</td>\n",
              "      <td>양배추</td>\n",
              "      <td>1.0</td>\n",
              "      <td>소매</td>\n",
              "      <td>4.0</td>\n",
              "      <td>5660.0</td>\n",
              "      <td>1.0</td>\n",
              "      <td>포기</td>\n",
              "      <td>0</td>\n",
              "    </tr>\n",
              "    <tr>\n",
              "      <th>4</th>\n",
              "      <td>20170102</td>\n",
              "      <td>289</td>\n",
              "      <td>37</td>\n",
              "      <td>213.0</td>\n",
              "      <td>시금치</td>\n",
              "      <td>0.0</td>\n",
              "      <td>시금치</td>\n",
              "      <td>1.0</td>\n",
              "      <td>소매</td>\n",
              "      <td>4.0</td>\n",
              "      <td>6080.0</td>\n",
              "      <td>1.0</td>\n",
              "      <td>kg</td>\n",
              "      <td>0</td>\n",
              "    </tr>\n",
              "  </tbody>\n",
              "</table>\n",
              "</div>"
            ],
            "text/plain": [
              "   PRCE_REG_YMD  MRKT_ESNT_NO  CTNP_CODE  PDLT_CODE PDLT_NM  SPCS_CODE  \\\n",
              "0      20170102           289         37      151.0     고구마        0.0   \n",
              "1      20170102           289         37      152.0      감자        1.0   \n",
              "2      20170102           289         37      211.0      배추        6.0   \n",
              "3      20170102           289         37      212.0     양배추        0.0   \n",
              "4      20170102           289         37      213.0     시금치        0.0   \n",
              "\n",
              "  SPCS_NM  WSRT_EXMN_SE_CODE EXMN_SE_NM  BULK_GRAD_CODE  PDLT_PRCE  \\\n",
              "0       밤                1.0         소매             4.0     5000.0   \n",
              "1      수미                1.0         소매             4.0      270.0   \n",
              "2      월동                1.0         소매             4.0     4000.0   \n",
              "3     양배추                1.0         소매             4.0     5660.0   \n",
              "4     시금치                1.0         소매             4.0     6080.0   \n",
              "\n",
              "   RTSL_SMT_UNIT_MG RTSL_SMT_UNIT_NM DCNT_PRCE_YN  \n",
              "0               1.0               kg            0  \n",
              "1             100.0                g            0  \n",
              "2               1.0               포기            0  \n",
              "3               1.0               포기            0  \n",
              "4               1.0               kg            0  "
            ]
          },
          "execution_count": 16,
          "metadata": {},
          "output_type": "execute_result"
        }
      ],
      "source": [
        "#결측값 처리\n",
        "price_data['DCNT_PRCE_YN']=price_data['DCNT_PRCE_YN'].fillna('N')\n",
        "\n",
        "#세일 여부 수치화\n",
        "#0: N 1: Y\n",
        "price_data.loc[price_data['DCNT_PRCE_YN'] == \"N\", 'DCNT_PRCE_YN'] = \"0\"\n",
        "price_data.loc[price_data['DCNT_PRCE_YN'] == \"Y\", 'DCNT_PRCE_YN'] = \"1\"\n",
        "price_data.head()"
      ]
    },
    {
      "cell_type": "code",
      "execution_count": null,
      "id": "ad116aeb",
      "metadata": {
        "id": "ad116aeb"
      },
      "outputs": [],
      "source": [
        "#전체 데이터 중 고기 데이터만 추출\n",
        "price_meat= price_data[(price_data['PDLT_NM']=='돼지고기')|(price_data['PDLT_NM']=='쇠고기')|(price_data['PDLT_NM']=='닭고기')]"
      ]
    },
    {
      "cell_type": "code",
      "execution_count": null,
      "id": "d25bd8fe",
      "metadata": {
        "id": "d25bd8fe"
      },
      "outputs": [],
      "source": [
        "#소매 데이터만 수집\n",
        "price_meat=price_meat[(price_meat['EXMN_SE_NM']=='소매')]\n",
        "\n",
        "#소매 데이터만 모았으므로 도소매 구분 코드, 데이터 필요 없음\n",
        "price_meat=price_meat.drop(\"EXMN_SE_NM\", axis=1)\n",
        "price_meat=price_meat.drop(\"WSRT_EXMN_SE_CODE\", axis=1)"
      ]
    },
    {
      "cell_type": "code",
      "execution_count": null,
      "id": "56f303f7",
      "metadata": {
        "id": "56f303f7"
      },
      "outputs": [],
      "source": [
        "#날짜 데이터 형태 변경(yyyymm -> yyyy-mm)\n",
        "price_meat[['PRCE_REG_YMD']] = price_meat[['PRCE_REG_YMD']].applymap(str).applymap(lambda s: \"{}-{}-{}\".format(s[0:4],s[4:6], s[6:]))"
      ]
    },
    {
      "cell_type": "code",
      "execution_count": null,
      "id": "8c11d2bc",
      "metadata": {
        "id": "8c11d2bc",
        "outputId": "b65b322d-d2f1-4356-a62b-bc431746a40d"
      },
      "outputs": [
        {
          "data": {
            "text/plain": [
              "(296706, 12)"
            ]
          },
          "execution_count": 20,
          "metadata": {},
          "output_type": "execute_result"
        }
      ],
      "source": [
        "#국내 고기 데이터, 수입 고기 데이터 분리\n",
        "price_meat_kor=price_meat[price_meat['SPCS_NM'].str.contains('한우')|price_meat['SPCS_NM'].str.contains('국산')]\n",
        "price_meat_imp=price_meat[~price_meat['SPCS_NM'].str.contains('한우')&~price_meat['SPCS_NM'].str.contains('국산')]\n",
        "\n",
        "#'미국산' 키워드는 별도로 제거 및 추가\n",
        "#미국산 키둬드가 들어간 데이터 추출\n",
        "data=price_meat_kor[price_meat_kor['SPCS_NM'].str.contains('미국산')]\n",
        "\n",
        "#국내산 데이터에서 미국산 키워드가 들어간 데이터 제거\n",
        "price_meat_kor=price_meat_kor[~price_meat_kor['SPCS_NM'].str.contains('미국산')]\n",
        "#수집산 데이터와 미국산 키둬드 데이터 통합\n",
        "price_meat_imp = pd.concat([price_meat_imp,data])\n",
        "\n",
        "price_meat_kor.shape\n",
        "price_meat_imp.shape"
      ]
    },
    {
      "cell_type": "code",
      "execution_count": null,
      "id": "88bff3c2",
      "metadata": {
        "id": "88bff3c2",
        "outputId": "561202cd-2dd6-4a8a-8c67-6a43fe939e7e"
      },
      "outputs": [
        {
          "name": "stderr",
          "output_type": "stream",
          "text": [
            "C:\\Users\\jungm\\AppData\\Local\\Temp\\ipykernel_16740\\1459241550.py:9: SettingWithCopyWarning: \n",
            "A value is trying to be set on a copy of a slice from a DataFrame.\n",
            "Try using .loc[row_indexer,col_indexer] = value instead\n",
            "\n",
            "See the caveats in the documentation: https://pandas.pydata.org/pandas-docs/stable/user_guide/indexing.html#returning-a-view-versus-a-copy\n",
            "  price_meat_imp2['PDLT_PRCE'] = price_meat_imp2['PDLT_PRCE'].div(10)\n"
          ]
        }
      ],
      "source": [
        "#무게 데이터, 단위 데이터 속성 통합\n",
        "#수입 고기 데이터에 닭고기 가격 데이터가 포함되어 있어 100g, 1kg 데이터가 섞여있다.(국내산 고기 데이터는 해당X)\n",
        "price_meat_imp[['RTSL_SMT_UNIT_MG']] = price_meat_imp[['RTSL_SMT_UNIT_MG']].applymap(str).applymap(lambda s: \"{}g\".format(s[0:]))\n",
        "\n",
        "price_meat_imp1=price_meat_imp[price_meat_imp['RTSL_SMT_UNIT_MG'].str.contains('100.0g')]\n",
        "price_meat_imp2=price_meat_imp[price_meat_imp['RTSL_SMT_UNIT_MG'].str.contains('1.0g')]\n",
        "\n",
        "#변경된 단위만큼 가격 데이터 변경\n",
        "price_meat_imp2['PDLT_PRCE'] = price_meat_imp2['PDLT_PRCE'].div(10)\n",
        "\n",
        "price_meat_imp = pd.concat([price_meat_imp1,price_meat_imp2])"
      ]
    },
    {
      "cell_type": "code",
      "execution_count": null,
      "id": "d68821e8",
      "metadata": {
        "id": "d68821e8",
        "outputId": "61742da0-94a0-48c9-dfc6-9bb739d1318e"
      },
      "outputs": [
        {
          "data": {
            "text/html": [
              "<div>\n",
              "<style scoped>\n",
              "    .dataframe tbody tr th:only-of-type {\n",
              "        vertical-align: middle;\n",
              "    }\n",
              "\n",
              "    .dataframe tbody tr th {\n",
              "        vertical-align: top;\n",
              "    }\n",
              "\n",
              "    .dataframe thead th {\n",
              "        text-align: right;\n",
              "    }\n",
              "</style>\n",
              "<table border=\"1\" class=\"dataframe\">\n",
              "  <thead>\n",
              "    <tr style=\"text-align: right;\">\n",
              "      <th></th>\n",
              "      <th>PRCE_REG_YMD</th>\n",
              "      <th>MRKT_ESNT_NO</th>\n",
              "      <th>CTNP_CODE</th>\n",
              "      <th>PDLT_CODE</th>\n",
              "      <th>PDLT_NM</th>\n",
              "      <th>SPCS_CODE</th>\n",
              "      <th>SPCS_NM</th>\n",
              "      <th>BULK_GRAD_CODE</th>\n",
              "      <th>PDLT_PRCE</th>\n",
              "      <th>DCNT_PRCE_YN</th>\n",
              "    </tr>\n",
              "  </thead>\n",
              "  <tbody>\n",
              "    <tr>\n",
              "      <th>108</th>\n",
              "      <td>2017-01-02</td>\n",
              "      <td>286</td>\n",
              "      <td>11</td>\n",
              "      <td>514.0</td>\n",
              "      <td>돼지고기</td>\n",
              "      <td>2.0</td>\n",
              "      <td>목살</td>\n",
              "      <td>5.0</td>\n",
              "      <td>1750.0</td>\n",
              "      <td>0</td>\n",
              "    </tr>\n",
              "    <tr>\n",
              "      <th>110</th>\n",
              "      <td>2017-01-02</td>\n",
              "      <td>286</td>\n",
              "      <td>11</td>\n",
              "      <td>514.0</td>\n",
              "      <td>돼지고기</td>\n",
              "      <td>3.0</td>\n",
              "      <td>돼지갈비</td>\n",
              "      <td>5.0</td>\n",
              "      <td>1200.0</td>\n",
              "      <td>0</td>\n",
              "    </tr>\n",
              "    <tr>\n",
              "      <th>111</th>\n",
              "      <td>2017-01-02</td>\n",
              "      <td>286</td>\n",
              "      <td>11</td>\n",
              "      <td>514.0</td>\n",
              "      <td>돼지고기</td>\n",
              "      <td>4.0</td>\n",
              "      <td>앞다리살</td>\n",
              "      <td>5.0</td>\n",
              "      <td>1250.0</td>\n",
              "      <td>0</td>\n",
              "    </tr>\n",
              "  </tbody>\n",
              "</table>\n",
              "</div>"
            ],
            "text/plain": [
              "    PRCE_REG_YMD  MRKT_ESNT_NO  CTNP_CODE  PDLT_CODE PDLT_NM  SPCS_CODE  \\\n",
              "108   2017-01-02           286         11      514.0    돼지고기        2.0   \n",
              "110   2017-01-02           286         11      514.0    돼지고기        3.0   \n",
              "111   2017-01-02           286         11      514.0    돼지고기        4.0   \n",
              "\n",
              "    SPCS_NM  BULK_GRAD_CODE  PDLT_PRCE DCNT_PRCE_YN  \n",
              "108      목살             5.0     1750.0            0  \n",
              "110    돼지갈비             5.0     1200.0            0  \n",
              "111    앞다리살             5.0     1250.0            0  "
            ]
          },
          "execution_count": 22,
          "metadata": {},
          "output_type": "execute_result"
        }
      ],
      "source": [
        "#가격 데이터의 무게 단위를 통일시켰으므로 해당 속성을 제거해도 무방하다.\n",
        "price_meat_imp=price_meat_imp.drop(labels='RTSL_SMT_UNIT_MG', axis=1)\n",
        "price_meat_imp=price_meat_imp.drop(labels='RTSL_SMT_UNIT_NM', axis=1)\n",
        "price_meat_kor=price_meat_kor.drop(labels='RTSL_SMT_UNIT_MG', axis=1)\n",
        "price_meat_kor=price_meat_kor.drop(labels='RTSL_SMT_UNIT_NM', axis=1)\n",
        "price_meat_imp.head(3)"
      ]
    },
    {
      "cell_type": "code",
      "execution_count": null,
      "id": "bd5959f9",
      "metadata": {
        "id": "bd5959f9",
        "outputId": "82b93336-3150-436d-a145-73ff613e0802"
      },
      "outputs": [
        {
          "data": {
            "text/html": [
              "<div>\n",
              "<style scoped>\n",
              "    .dataframe tbody tr th:only-of-type {\n",
              "        vertical-align: middle;\n",
              "    }\n",
              "\n",
              "    .dataframe tbody tr th {\n",
              "        vertical-align: top;\n",
              "    }\n",
              "\n",
              "    .dataframe thead th {\n",
              "        text-align: right;\n",
              "    }\n",
              "</style>\n",
              "<table border=\"1\" class=\"dataframe\">\n",
              "  <thead>\n",
              "    <tr style=\"text-align: right;\">\n",
              "      <th></th>\n",
              "      <th>PRCE_REG_YMD</th>\n",
              "      <th>MRKT_ESNT_NO</th>\n",
              "      <th>CTNP_CODE</th>\n",
              "      <th>PDLT_CODE</th>\n",
              "      <th>PDLT_NM</th>\n",
              "      <th>SPCS_CODE</th>\n",
              "      <th>SPCS_NM</th>\n",
              "      <th>BULK_GRAD_CODE</th>\n",
              "      <th>PDLT_PRCE</th>\n",
              "      <th>DCNT_PRCE_YN</th>\n",
              "    </tr>\n",
              "  </thead>\n",
              "  <tbody>\n",
              "    <tr>\n",
              "      <th>86</th>\n",
              "      <td>2017-01-02</td>\n",
              "      <td>286</td>\n",
              "      <td>11</td>\n",
              "      <td>512.0</td>\n",
              "      <td>쇠고기</td>\n",
              "      <td>12.0</td>\n",
              "      <td>한우등심</td>\n",
              "      <td>1.0</td>\n",
              "      <td>7900.0</td>\n",
              "      <td>0</td>\n",
              "    </tr>\n",
              "    <tr>\n",
              "      <th>87</th>\n",
              "      <td>2017-01-02</td>\n",
              "      <td>286</td>\n",
              "      <td>11</td>\n",
              "      <td>512.0</td>\n",
              "      <td>쇠고기</td>\n",
              "      <td>13.0</td>\n",
              "      <td>한우불고기</td>\n",
              "      <td>1.0</td>\n",
              "      <td>4700.0</td>\n",
              "      <td>0</td>\n",
              "    </tr>\n",
              "    <tr>\n",
              "      <th>88</th>\n",
              "      <td>2017-01-02</td>\n",
              "      <td>286</td>\n",
              "      <td>11</td>\n",
              "      <td>514.0</td>\n",
              "      <td>돼지고기</td>\n",
              "      <td>0.0</td>\n",
              "      <td>삼겹살(국산냉장)</td>\n",
              "      <td>5.0</td>\n",
              "      <td>1750.0</td>\n",
              "      <td>0</td>\n",
              "    </tr>\n",
              "  </tbody>\n",
              "</table>\n",
              "</div>"
            ],
            "text/plain": [
              "   PRCE_REG_YMD  MRKT_ESNT_NO  CTNP_CODE  PDLT_CODE PDLT_NM  SPCS_CODE  \\\n",
              "86   2017-01-02           286         11      512.0     쇠고기       12.0   \n",
              "87   2017-01-02           286         11      512.0     쇠고기       13.0   \n",
              "88   2017-01-02           286         11      514.0    돼지고기        0.0   \n",
              "\n",
              "      SPCS_NM  BULK_GRAD_CODE  PDLT_PRCE DCNT_PRCE_YN  \n",
              "86       한우등심             1.0     7900.0            0  \n",
              "87      한우불고기             1.0     4700.0            0  \n",
              "88  삼겹살(국산냉장)             5.0     1750.0            0  "
            ]
          },
          "execution_count": 23,
          "metadata": {},
          "output_type": "execute_result"
        }
      ],
      "source": [
        "price_meat_kor.head(3)"
      ]
    },
    {
      "cell_type": "markdown",
      "id": "a9d7720f",
      "metadata": {
        "id": "a9d7720f"
      },
      "source": [
        "<p style='font-size:15px;color:green;font-weight:bold'>데이터 전처리(고객 트렌드 데이터)_추천 모델 활용(결론)</p>"
      ]
    },
    {
      "cell_type": "code",
      "execution_count": null,
      "id": "7110a432",
      "metadata": {
        "id": "7110a432"
      },
      "outputs": [],
      "source": [
        "#데이터 파일 불러오기\n",
        "#데이터 출처: KADX 농식품 빅데이터 거래소\n",
        "man_21=pd.read_csv(\"./2021_man.csv\", encoding = 'UTF-8')\n",
        "man_22=pd.read_csv(\"./2022_man.csv\", encoding = 'UTF-8')\n",
        "woman_21=pd.read_csv(\"./2021_woman.csv\", encoding = 'UTF-8')\n",
        "woman_22=pd.read_csv(\"./2022_woman.csv\", encoding = 'UTF-8')"
      ]
    },
    {
      "cell_type": "code",
      "execution_count": null,
      "id": "ef74e89f",
      "metadata": {
        "id": "ef74e89f"
      },
      "outputs": [],
      "source": [
        "#남성, 여성 데이터끼리 합치기\n",
        "man=pd.concat([man_21, man_21])\n",
        "woman=pd.concat([woman_21, woman_21])"
      ]
    },
    {
      "cell_type": "code",
      "execution_count": null,
      "id": "2ca9f541",
      "metadata": {
        "id": "2ca9f541"
      },
      "outputs": [],
      "source": [
        "#각 데이터 속성 명 변경\n",
        "man = man.rename(columns=man.iloc[0])\n",
        "woman = woman.rename(columns=woman.iloc[0])"
      ]
    },
    {
      "cell_type": "code",
      "execution_count": null,
      "id": "d59d7393",
      "metadata": {
        "id": "d59d7393"
      },
      "outputs": [],
      "source": [
        "#불필요한 데이터 속성 제거\n",
        "man=man.drop(0, axis=1)\n",
        "man=man.drop(\"구매채널 선택이유\", axis=1)\n",
        "man=man.drop(\"등급\", axis=1)\n",
        "man=man.drop(\"세부부위\", axis=1)\n",
        "man=man.drop(\"구매채널\", axis=1)\n",
        "man=man.drop('주차', axis=1)\n",
        "man=man.drop('가구원수', axis=1)\n",
        "man=man.drop('구매중량', axis=1)\n",
        "man=man.drop('유통상태', axis=1)\n",
        "\n",
        "woman=woman.drop(0, axis=1)\n",
        "woman=woman.drop(\"세부부위\", axis=1)\n",
        "woman=woman.drop(\"구매채널 선택이유\", axis=1)\n",
        "woman=woman.drop('등급', axis=1)"
      ]
    },
    {
      "cell_type": "code",
      "execution_count": null,
      "id": "123af17f",
      "metadata": {
        "id": "123af17f"
      },
      "outputs": [],
      "source": [
        "#문자열 데이터 -> 수치형 데이터로 변경\n",
        "man.loc[man['익월 국내산 쇠고기 구입의향'] == '매우 많음', '익월 국내산 쇠고기 구입의향'] = 5\n",
        "man.loc[man['익월 국내산 쇠고기 구입의향'] == '많음', '익월 국내산 쇠고기 구입의향'] = 4\n",
        "man.loc[man['익월 국내산 쇠고기 구입의향'] == '보통', '익월 국내산 쇠고기 구입의향'] = 3\n",
        "man.loc[man['익월 국내산 쇠고기 구입의향'] == '적음', '익월 국내산 쇠고기 구입의향'] = 2\n",
        "man.loc[man['익월 국내산 쇠고기 구입의향'] == '매우 적음', '익월 국내산 쇠고기 구입의향'] = 1\n",
        "\n",
        "man.loc[man['익월 수입산 쇠고기 구입의향'] == '매우 많음', '익월 수입산 쇠고기 구입의향'] = 5\n",
        "man.loc[man['익월 수입산 쇠고기 구입의향'] == '많음', '익월 수입산 쇠고기 구입의향'] = 4\n",
        "man.loc[man['익월 수입산 쇠고기 구입의향'] == '보통', '익월 수입산 쇠고기 구입의향'] = 3\n",
        "man.loc[man['익월 수입산 쇠고기 구입의향'] == '적음', '익월 수입산 쇠고기 구입의향'] = 2\n",
        "man.loc[man['익월 수입산 쇠고기 구입의향'] == '매우 적음', '익월 수입산 쇠고기 구입의향'] = 1\n",
        "\n",
        "man.loc[man['익월 국내산 돼지고기 구입의향'] == '매우 많음', '익월 국내산 돼지고기 구입의향'] = 5\n",
        "man.loc[man['익월 국내산 돼지고기 구입의향'] == '많음', '익월 국내산 돼지고기 구입의향'] = 4\n",
        "man.loc[man['익월 국내산 돼지고기 구입의향'] == '보통', '익월 국내산 돼지고기 구입의향'] = 3\n",
        "man.loc[man['익월 국내산 돼지고기 구입의향'] == '적음', '익월 국내산 돼지고기 구입의향'] = 2\n",
        "man.loc[man['익월 국내산 돼지고기 구입의향'] == '매우 적음', '익월 국내산 돼지고기 구입의향'] = 1\n",
        "\n",
        "man.loc[man['익월 수입산 돼지고기 구입의향'] == '매우 많음', '익월 수입산 돼지고기 구입의향'] = 5\n",
        "man.loc[man['익월 수입산 돼지고기 구입의향'] == '많음', '익월 수입산 돼지고기 구입의향'] = 4\n",
        "man.loc[man['익월 수입산 돼지고기 구입의향'] == '보통', '익월 수입산 돼지고기 구입의향'] = 3\n",
        "man.loc[man['익월 수입산 돼지고기 구입의향'] == '적음', '익월 수입산 돼지고기 구입의향'] = 2\n",
        "man.loc[man['익월 수입산 돼지고기 구입의향'] == '매우 적음', '익월 수입산 돼지고기 구입의향'] = 1\n",
        "\n",
        "man.loc[man['재구매의사'] == '매우 많음', '재구매의사'] = 5\n",
        "man.loc[man['재구매의사'] == '많음', '재구매의사'] = 4\n",
        "man.loc[man['재구매의사'] == '보통', '재구매의사'] = 3\n",
        "man.loc[man['재구매의사'] == '적음', '재구매의사'] = 2\n",
        "man.loc[man['재구매의사'] == '매우 적음', '재구매의사'] = 1\n",
        "\n",
        "woman.loc[woman['익월 국내산 쇠고기 구입의향'] == '매우 많음', '익월 국내산 쇠고기 구입의향'] = 5\n",
        "woman.loc[woman['익월 국내산 쇠고기 구입의향'] == '많음', '익월 국내산 쇠고기 구입의향'] = 4\n",
        "woman.loc[woman['익월 국내산 쇠고기 구입의향'] == '보통', '익월 국내산 쇠고기 구입의향'] = 3\n",
        "woman.loc[woman['익월 국내산 쇠고기 구입의향'] == '적음', '익월 국내산 쇠고기 구입의향'] = 2\n",
        "woman.loc[woman['익월 국내산 쇠고기 구입의향'] == '매우 적음', '익월 국내산 쇠고기 구입의향'] = 1\n",
        "\n",
        "woman.loc[woman['익월 수입산 쇠고기 구입의향'] == '매우 많음', '익월 수입산 쇠고기 구입의향'] = 5\n",
        "woman.loc[woman['익월 수입산 쇠고기 구입의향'] == '많음', '익월 수입산 쇠고기 구입의향'] = 4\n",
        "woman.loc[woman['익월 수입산 쇠고기 구입의향'] == '보통', '익월 수입산 쇠고기 구입의향'] = 3\n",
        "woman.loc[woman['익월 수입산 쇠고기 구입의향'] == '적음', '익월 수입산 쇠고기 구입의향'] = 2\n",
        "woman.loc[woman['익월 수입산 쇠고기 구입의향'] == '매우 적음', '익월 수입산 쇠고기 구입의향'] = 1\n",
        "\n",
        "woman.loc[woman['익월 국내산 돼지고기 구입의향'] == '매우 많음', '익월 국내산 돼지고기 구입의향'] = 5\n",
        "woman.loc[woman['익월 국내산 돼지고기 구입의향'] == '많음', '익월 국내산 돼지고기 구입의향'] = 4\n",
        "woman.loc[woman['익월 국내산 돼지고기 구입의향'] == '보통', '익월 국내산 돼지고기 구입의향'] = 3\n",
        "woman.loc[woman['익월 국내산 돼지고기 구입의향'] == '적음', '익월 국내산 돼지고기 구입의향'] = 2\n",
        "woman.loc[woman['익월 국내산 돼지고기 구입의향'] == '매우 적음', '익월 국내산 돼지고기 구입의향'] = 1\n",
        "\n",
        "woman.loc[woman['익월 수입산 돼지고기 구입의향'] == '매우 많음', '익월 수입산 돼지고기 구입의향'] = 5\n",
        "woman.loc[woman['익월 수입산 돼지고기 구입의향'] == '많음', '익월 수입산 돼지고기 구입의향'] = 4\n",
        "woman.loc[woman['익월 수입산 돼지고기 구입의향'] == '보통', '익월 수입산 돼지고기 구입의향'] = 3\n",
        "woman.loc[woman['익월 수입산 돼지고기 구입의향'] == '적음', '익월 수입산 돼지고기 구입의향'] = 2\n",
        "woman.loc[woman['익월 수입산 돼지고기 구입의향'] == '매우 적음', '익월 수입산 돼지고기 구입의향'] = 1\n",
        "\n",
        "woman.loc[woman['재구매의사'] == '매우 많음', '재구매의사'] = 5\n",
        "woman.loc[woman['재구매의사'] == '많음', '재구매의사'] = 4\n",
        "woman.loc[woman['재구매의사'] == '보통', '재구매의사'] = 3\n",
        "woman.loc[woman['재구매의사'] == '적음', '재구매의사'] = 2\n",
        "woman.loc[woman['재구매의사'] == '매우 적음', '재구매의사'] = 1\n",
        "\n",
        "man.loc[man['성별'] == '남자', '성별'] = 0\n",
        "\n",
        "woman.loc[woman['성별'] == '여자', '성별'] = 1"
      ]
    },
    {
      "cell_type": "code",
      "execution_count": null,
      "id": "63d3d00f",
      "metadata": {
        "id": "63d3d00f",
        "outputId": "3f70a3c3-4618-469e-cc0e-799435ec4103"
      },
      "outputs": [
        {
          "data": {
            "text/html": [
              "<div>\n",
              "<style scoped>\n",
              "    .dataframe tbody tr th:only-of-type {\n",
              "        vertical-align: middle;\n",
              "    }\n",
              "\n",
              "    .dataframe tbody tr th {\n",
              "        vertical-align: top;\n",
              "    }\n",
              "\n",
              "    .dataframe thead th {\n",
              "        text-align: right;\n",
              "    }\n",
              "</style>\n",
              "<table border=\"1\" class=\"dataframe\">\n",
              "  <thead>\n",
              "    <tr style=\"text-align: right;\">\n",
              "      <th></th>\n",
              "      <th>지역</th>\n",
              "      <th>성별</th>\n",
              "      <th>연령대</th>\n",
              "      <th>직업</th>\n",
              "      <th>가구소득(월)</th>\n",
              "      <th>육종</th>\n",
              "      <th>원산지</th>\n",
              "      <th>구매가격</th>\n",
              "      <th>구매시 고려사항</th>\n",
              "      <th>구매목적</th>\n",
              "      <th>재구매의사</th>\n",
              "      <th>익월 국내산 쇠고기 구입의향</th>\n",
              "      <th>익월 수입산 쇠고기 구입의향</th>\n",
              "      <th>익월 국내산 돼지고기 구입의향</th>\n",
              "      <th>익월 수입산 돼지고기 구입의향</th>\n",
              "    </tr>\n",
              "  </thead>\n",
              "  <tbody>\n",
              "    <tr>\n",
              "      <th>1</th>\n",
              "      <td>강원</td>\n",
              "      <td>0</td>\n",
              "      <td>25~29세</td>\n",
              "      <td>직장인 (회사원/공무원)</td>\n",
              "      <td>600~800만원</td>\n",
              "      <td>쇠고기</td>\n",
              "      <td>한우</td>\n",
              "      <td>33600</td>\n",
              "      <td>품질(등급)</td>\n",
              "      <td>가족식사</td>\n",
              "      <td>4</td>\n",
              "      <td>5</td>\n",
              "      <td>3</td>\n",
              "      <td>4</td>\n",
              "      <td>3</td>\n",
              "    </tr>\n",
              "    <tr>\n",
              "      <th>2</th>\n",
              "      <td>강원</td>\n",
              "      <td>0</td>\n",
              "      <td>25~29세</td>\n",
              "      <td>직장인 (회사원/공무원)</td>\n",
              "      <td>600~800만원</td>\n",
              "      <td>쇠고기</td>\n",
              "      <td>한우</td>\n",
              "      <td>26840</td>\n",
              "      <td>품질(등급)</td>\n",
              "      <td>가족식사</td>\n",
              "      <td>4</td>\n",
              "      <td>5</td>\n",
              "      <td>3</td>\n",
              "      <td>4</td>\n",
              "      <td>3</td>\n",
              "    </tr>\n",
              "    <tr>\n",
              "      <th>3</th>\n",
              "      <td>강원</td>\n",
              "      <td>0</td>\n",
              "      <td>25~29세</td>\n",
              "      <td>직장인 (회사원/공무원)</td>\n",
              "      <td>600~800만원</td>\n",
              "      <td>쇠고기</td>\n",
              "      <td>한우</td>\n",
              "      <td>26840</td>\n",
              "      <td>품질(등급)</td>\n",
              "      <td>가족식사</td>\n",
              "      <td>4</td>\n",
              "      <td>5</td>\n",
              "      <td>3</td>\n",
              "      <td>4</td>\n",
              "      <td>3</td>\n",
              "    </tr>\n",
              "  </tbody>\n",
              "</table>\n",
              "</div>"
            ],
            "text/plain": [
              "   지역 성별     연령대             직업    가구소득(월)   육종 원산지   구매가격 구매시 고려사항  구매목적  \\\n",
              "1  강원  0  25~29세  직장인 (회사원/공무원)  600~800만원  쇠고기  한우  33600   품질(등급)  가족식사   \n",
              "2  강원  0  25~29세  직장인 (회사원/공무원)  600~800만원  쇠고기  한우  26840   품질(등급)  가족식사   \n",
              "3  강원  0  25~29세  직장인 (회사원/공무원)  600~800만원  쇠고기  한우  26840   품질(등급)  가족식사   \n",
              "\n",
              "  재구매의사 익월 국내산 쇠고기 구입의향 익월 수입산 쇠고기 구입의향 익월 국내산 돼지고기 구입의향 익월 수입산 돼지고기 구입의향  \n",
              "1     4               5               3                4                3  \n",
              "2     4               5               3                4                3  \n",
              "3     4               5               3                4                3  "
            ]
          },
          "execution_count": 29,
          "metadata": {},
          "output_type": "execute_result"
        }
      ],
      "source": [
        "#1차 전처리(수치화) 완료된 데이터 하나의 데이터 세트로 합치기\n",
        "trend_data=pd.concat([man, woman])\n",
        "trend_data=trend_data.drop(0, axis=0)\n",
        "trend_data.shape\n",
        "\n",
        "#수치형으로 전처리 하지 않은 데이터 변수에 저장해두기\n",
        "trend_data_str=trend_data\n",
        "trend_data_str.head(3)"
      ]
    },
    {
      "cell_type": "code",
      "execution_count": null,
      "id": "135aa800",
      "metadata": {
        "id": "135aa800",
        "outputId": "3271c02c-c444-42ef-b41f-663defb8e59e"
      },
      "outputs": [
        {
          "data": {
            "text/html": [
              "<div>\n",
              "<style scoped>\n",
              "    .dataframe tbody tr th:only-of-type {\n",
              "        vertical-align: middle;\n",
              "    }\n",
              "\n",
              "    .dataframe tbody tr th {\n",
              "        vertical-align: top;\n",
              "    }\n",
              "\n",
              "    .dataframe thead th {\n",
              "        text-align: right;\n",
              "    }\n",
              "</style>\n",
              "<table border=\"1\" class=\"dataframe\">\n",
              "  <thead>\n",
              "    <tr style=\"text-align: right;\">\n",
              "      <th></th>\n",
              "      <th>지역</th>\n",
              "      <th>성별</th>\n",
              "      <th>연령대</th>\n",
              "      <th>직업</th>\n",
              "      <th>가구소득(월)</th>\n",
              "      <th>육종</th>\n",
              "      <th>원산지</th>\n",
              "      <th>구매가격</th>\n",
              "      <th>구매시 고려사항</th>\n",
              "      <th>구매목적</th>\n",
              "      <th>재구매의사</th>\n",
              "      <th>익월 국내산 쇠고기 구입의향</th>\n",
              "      <th>익월 수입산 쇠고기 구입의향</th>\n",
              "      <th>익월 국내산 돼지고기 구입의향</th>\n",
              "      <th>익월 수입산 돼지고기 구입의향</th>\n",
              "    </tr>\n",
              "  </thead>\n",
              "  <tbody>\n",
              "    <tr>\n",
              "      <th>1</th>\n",
              "      <td>강원</td>\n",
              "      <td>0</td>\n",
              "      <td>20</td>\n",
              "      <td>1</td>\n",
              "      <td>700</td>\n",
              "      <td>쇠고기</td>\n",
              "      <td>한우</td>\n",
              "      <td>33600</td>\n",
              "      <td>1</td>\n",
              "      <td>1</td>\n",
              "      <td>4</td>\n",
              "      <td>5</td>\n",
              "      <td>3</td>\n",
              "      <td>4</td>\n",
              "      <td>3</td>\n",
              "    </tr>\n",
              "    <tr>\n",
              "      <th>2</th>\n",
              "      <td>강원</td>\n",
              "      <td>0</td>\n",
              "      <td>20</td>\n",
              "      <td>1</td>\n",
              "      <td>700</td>\n",
              "      <td>쇠고기</td>\n",
              "      <td>한우</td>\n",
              "      <td>26840</td>\n",
              "      <td>1</td>\n",
              "      <td>1</td>\n",
              "      <td>4</td>\n",
              "      <td>5</td>\n",
              "      <td>3</td>\n",
              "      <td>4</td>\n",
              "      <td>3</td>\n",
              "    </tr>\n",
              "    <tr>\n",
              "      <th>3</th>\n",
              "      <td>강원</td>\n",
              "      <td>0</td>\n",
              "      <td>20</td>\n",
              "      <td>1</td>\n",
              "      <td>700</td>\n",
              "      <td>쇠고기</td>\n",
              "      <td>한우</td>\n",
              "      <td>26840</td>\n",
              "      <td>1</td>\n",
              "      <td>1</td>\n",
              "      <td>4</td>\n",
              "      <td>5</td>\n",
              "      <td>3</td>\n",
              "      <td>4</td>\n",
              "      <td>3</td>\n",
              "    </tr>\n",
              "  </tbody>\n",
              "</table>\n",
              "</div>"
            ],
            "text/plain": [
              "   지역 성별 연령대 직업 가구소득(월)   육종 원산지   구매가격 구매시 고려사항 구매목적 재구매의사 익월 국내산 쇠고기 구입의향  \\\n",
              "1  강원  0  20  1     700  쇠고기  한우  33600        1    1     4               5   \n",
              "2  강원  0  20  1     700  쇠고기  한우  26840        1    1     4               5   \n",
              "3  강원  0  20  1     700  쇠고기  한우  26840        1    1     4               5   \n",
              "\n",
              "  익월 수입산 쇠고기 구입의향 익월 국내산 돼지고기 구입의향 익월 수입산 돼지고기 구입의향  \n",
              "1               3                4                3  \n",
              "2               3                4                3  \n",
              "3               3                4                3  "
            ]
          },
          "execution_count": 30,
          "metadata": {},
          "output_type": "execute_result"
        }
      ],
      "source": [
        "#2차 전처리(수치화)\n",
        "#문자열 데이터 -> 수치형 데이터로 변경\n",
        "trend_data.loc[trend_data['연령대'] == '25~29세', '연령대'] = 20\n",
        "trend_data.loc[trend_data['연령대'] == '30~39세', '연령대'] = 30\n",
        "trend_data.loc[trend_data['연령대'] == '40~49세', '연령대'] = 40\n",
        "trend_data.loc[trend_data['연령대'] == '50~59세', '연령대'] = 50\n",
        "trend_data.loc[trend_data['연령대'] == '60~69세', '연령대'] = 60\n",
        "\n",
        "trend_data.loc[trend_data['가구소득(월)'] == '200만원 미만', '가구소득(월)'] = 200\n",
        "trend_data.loc[trend_data['가구소득(월)'] == '200~400만원', '가구소득(월)'] = 300\n",
        "trend_data.loc[trend_data['가구소득(월)'] == '400~600만원', '가구소득(월)'] = 500\n",
        "trend_data.loc[trend_data['가구소득(월)'] == '600~800만원', '가구소득(월)'] = 700\n",
        "trend_data.loc[trend_data['가구소득(월)'] == '800~1,000만원', '가구소득(월)'] = 900\n",
        "trend_data.loc[trend_data['가구소득(월)'] == '1,000만원 이상', '가구소득(월)'] = 1000\n",
        "\n",
        "trend_data.loc[trend_data['직업'] == '직장인 (회사원/공무원)', '직업'] = 1\n",
        "trend_data.loc[trend_data['직업'] == '전업주부', '직업'] = 2\n",
        "trend_data.loc[trend_data['직업'] == '파트타임', '직업'] = 3\n",
        "trend_data.loc[trend_data['직업'] == '기타(무직)', '직업'] = 4\n",
        "trend_data.loc[trend_data['직업'] == '자영업', '직업'] = 5\n",
        "trend_data.loc[trend_data['직업'] == '대학생/대학원생', '직업'] = 6\n",
        "\n",
        "trend_data.loc[trend_data['구매목적'] == '가족식사', '구매목적'] = 1\n",
        "trend_data.loc[trend_data['구매목적'] == '기타', '구매목적'] = 2\n",
        "trend_data.loc[trend_data['구매목적'] == '캠핑/여행', '구매목적'] = 3\n",
        "trend_data.loc[trend_data['구매목적'] == '선물', '구매목적'] = 4\n",
        "\n",
        "trend_data.loc[trend_data['구매시 고려사항'] == '품질(등급)', '구매시 고려사항'] = 1\n",
        "trend_data.loc[trend_data['구매시 고려사항'] == '원산지', '구매시 고려사항'] = 2\n",
        "trend_data.loc[trend_data['구매시 고려사항'] == '신선도', '구매시 고려사항'] = 3\n",
        "trend_data.loc[trend_data['구매시 고려사항'] == '가격', '구매시 고려사항'] = 4\n",
        "trend_data.loc[trend_data['구매시 고려사항'] == '기타', '구매시 고려사항'] = 5\n",
        "\n",
        "trend_data.head(3)"
      ]
    },
    {
      "cell_type": "markdown",
      "id": "e3a0682e",
      "metadata": {
        "id": "e3a0682e"
      },
      "source": [
        "<p style='font-size:15px;color:green;font-weight:bold'>데이터 전처리(요리 레시피 데이터)_추천 모델 활용(결론)</p>"
      ]
    },
    {
      "cell_type": "code",
      "execution_count": null,
      "id": "0da4593f",
      "metadata": {
        "id": "0da4593f"
      },
      "outputs": [],
      "source": [
        "#데이터 파일 불러오기\n",
        "#데이터 출처: KADX 농식품 빅데이터 거래소\n",
        "recipe_data=pd.read_csv(\"./recipe_data.csv\", encoding = 'euc-kr')"
      ]
    },
    {
      "cell_type": "code",
      "execution_count": null,
      "id": "94dbbedf",
      "metadata": {
        "id": "94dbbedf"
      },
      "outputs": [],
      "source": [
        "#불필요한 데이터 속성 제거\n",
        "recipe_data=recipe_data.drop('Unnamed: 0',axis=1)"
      ]
    },
    {
      "cell_type": "code",
      "execution_count": null,
      "id": "98b056b6",
      "metadata": {
        "id": "98b056b6",
        "outputId": "3145cefb-9806-4d1c-d83c-d9acd6f985e5"
      },
      "outputs": [
        {
          "data": {
            "text/html": [
              "<div>\n",
              "<style scoped>\n",
              "    .dataframe tbody tr th:only-of-type {\n",
              "        vertical-align: middle;\n",
              "    }\n",
              "\n",
              "    .dataframe tbody tr th {\n",
              "        vertical-align: top;\n",
              "    }\n",
              "\n",
              "    .dataframe thead th {\n",
              "        text-align: right;\n",
              "    }\n",
              "</style>\n",
              "<table border=\"1\" class=\"dataframe\">\n",
              "  <thead>\n",
              "    <tr style=\"text-align: right;\">\n",
              "      <th></th>\n",
              "      <th>nan_ratio</th>\n",
              "    </tr>\n",
              "  </thead>\n",
              "  <tbody>\n",
              "    <tr>\n",
              "      <th>CKG_NM</th>\n",
              "      <td>1961</td>\n",
              "    </tr>\n",
              "    <tr>\n",
              "      <th>INQ_CNT</th>\n",
              "      <td>0</td>\n",
              "    </tr>\n",
              "    <tr>\n",
              "      <th>RCMM_CNT</th>\n",
              "      <td>0</td>\n",
              "    </tr>\n",
              "    <tr>\n",
              "      <th>SRAP_CNT</th>\n",
              "      <td>0</td>\n",
              "    </tr>\n",
              "    <tr>\n",
              "      <th>CKG_STA_ACTO_NM</th>\n",
              "      <td>890</td>\n",
              "    </tr>\n",
              "    <tr>\n",
              "      <th>CKG_KND_ACTO_NM</th>\n",
              "      <td>0</td>\n",
              "    </tr>\n",
              "    <tr>\n",
              "      <th>CKG_MTRL_CN</th>\n",
              "      <td>1060</td>\n",
              "    </tr>\n",
              "    <tr>\n",
              "      <th>CKG_INBUN_NM</th>\n",
              "      <td>4229</td>\n",
              "    </tr>\n",
              "    <tr>\n",
              "      <th>CKG_DODF_NM</th>\n",
              "      <td>263</td>\n",
              "    </tr>\n",
              "    <tr>\n",
              "      <th>CKG_TIME_NM</th>\n",
              "      <td>8346</td>\n",
              "    </tr>\n",
              "  </tbody>\n",
              "</table>\n",
              "</div>"
            ],
            "text/plain": [
              "                 nan_ratio\n",
              "CKG_NM                1961\n",
              "INQ_CNT                  0\n",
              "RCMM_CNT                 0\n",
              "SRAP_CNT                 0\n",
              "CKG_STA_ACTO_NM        890\n",
              "CKG_KND_ACTO_NM          0\n",
              "CKG_MTRL_CN           1060\n",
              "CKG_INBUN_NM          4229\n",
              "CKG_DODF_NM            263\n",
              "CKG_TIME_NM           8346"
            ]
          },
          "execution_count": 33,
          "metadata": {},
          "output_type": "execute_result"
        }
      ],
      "source": [
        "#전체 데이터의 결측치 확인(개수)\n",
        "pd.DataFrame(data=recipe_data.isnull().sum(),columns=['nan_ratio'])\n",
        "\n",
        "#결측치가 다수 존재하는 인분 수, 소요 시간 제거"
      ]
    },
    {
      "cell_type": "code",
      "execution_count": null,
      "id": "571bbc9b",
      "metadata": {
        "id": "571bbc9b",
        "outputId": "e7daae96-86ff-4966-884e-79f31b77b823"
      },
      "outputs": [
        {
          "data": {
            "text/plain": [
              "(124364, 8)"
            ]
          },
          "execution_count": 34,
          "metadata": {},
          "output_type": "execute_result"
        }
      ],
      "source": [
        "#결측치가 다수 존재하는 행 제거\n",
        "recipe_data=recipe_data.drop('CKG_INBUN_NM',axis=1)\n",
        "recipe_data=recipe_data.drop('CKG_TIME_NM',axis=1)\n",
        "\n",
        "#레시피 명이 존재하지 않는 행 제거\n",
        "recipe_data=recipe_data.dropna()\n",
        "recipe_data.shape"
      ]
    },
    {
      "cell_type": "code",
      "execution_count": null,
      "id": "5bfeb68e",
      "metadata": {
        "id": "5bfeb68e",
        "outputId": "26ee937a-98b6-4a20-dea2-3ab0977a2ee7"
      },
      "outputs": [
        {
          "data": {
            "text/html": [
              "<div>\n",
              "<style scoped>\n",
              "    .dataframe tbody tr th:only-of-type {\n",
              "        vertical-align: middle;\n",
              "    }\n",
              "\n",
              "    .dataframe tbody tr th {\n",
              "        vertical-align: top;\n",
              "    }\n",
              "\n",
              "    .dataframe thead th {\n",
              "        text-align: right;\n",
              "    }\n",
              "</style>\n",
              "<table border=\"1\" class=\"dataframe\">\n",
              "  <thead>\n",
              "    <tr style=\"text-align: right;\">\n",
              "      <th></th>\n",
              "      <th>CKG_NM</th>\n",
              "      <th>INQ_CNT</th>\n",
              "      <th>RCMM_CNT</th>\n",
              "      <th>SRAP_CNT</th>\n",
              "      <th>CKG_STA_ACTO_NM</th>\n",
              "      <th>CKG_KND_ACTO_NM</th>\n",
              "      <th>CKG_MTRL_CN</th>\n",
              "      <th>CKG_DODF_NM</th>\n",
              "    </tr>\n",
              "  </thead>\n",
              "  <tbody>\n",
              "    <tr>\n",
              "      <th>0</th>\n",
              "      <td>어묵김말이</td>\n",
              "      <td>9592</td>\n",
              "      <td>6</td>\n",
              "      <td>66</td>\n",
              "      <td>간식</td>\n",
              "      <td>디저트</td>\n",
              "      <td>[재료] 어묵 2개| 김밥용김 3장| 당면 1움큼| 양파 1/2개| 당근 1/2개|...</td>\n",
              "      <td>초급</td>\n",
              "    </tr>\n",
              "    <tr>\n",
              "      <th>1</th>\n",
              "      <td>두부새우전</td>\n",
              "      <td>5538</td>\n",
              "      <td>3</td>\n",
              "      <td>26</td>\n",
              "      <td>일상</td>\n",
              "      <td>밑반찬</td>\n",
              "      <td>[재료] 두부 1/2모| 당근 1/2개| 고추 2개| 브로콜리 1/4개| 새우 4마...</td>\n",
              "      <td>초급</td>\n",
              "    </tr>\n",
              "    <tr>\n",
              "      <th>2</th>\n",
              "      <td>알밥</td>\n",
              "      <td>6802</td>\n",
              "      <td>8</td>\n",
              "      <td>36</td>\n",
              "      <td>일상</td>\n",
              "      <td>밥/죽/떡</td>\n",
              "      <td>[재료] 밥 1+1/2공기| 당근 1/4개| 치자단무지 1/2개| 신김치 1쪽| 무...</td>\n",
              "      <td>초급</td>\n",
              "    </tr>\n",
              "  </tbody>\n",
              "</table>\n",
              "</div>"
            ],
            "text/plain": [
              "  CKG_NM  INQ_CNT  RCMM_CNT  SRAP_CNT CKG_STA_ACTO_NM CKG_KND_ACTO_NM  \\\n",
              "0  어묵김말이     9592         6        66              간식             디저트   \n",
              "1  두부새우전     5538         3        26              일상             밑반찬   \n",
              "2     알밥     6802         8        36              일상           밥/죽/떡   \n",
              "\n",
              "                                         CKG_MTRL_CN CKG_DODF_NM  \n",
              "0  [재료] 어묵 2개| 김밥용김 3장| 당면 1움큼| 양파 1/2개| 당근 1/2개|...          초급  \n",
              "1  [재료] 두부 1/2모| 당근 1/2개| 고추 2개| 브로콜리 1/4개| 새우 4마...          초급  \n",
              "2  [재료] 밥 1+1/2공기| 당근 1/4개| 치자단무지 1/2개| 신김치 1쪽| 무...          초급  "
            ]
          },
          "execution_count": 35,
          "metadata": {},
          "output_type": "execute_result"
        }
      ],
      "source": [
        "recipe_data.head(3)"
      ]
    },
    {
      "cell_type": "markdown",
      "id": "dd50bcbc",
      "metadata": {
        "id": "dd50bcbc"
      },
      "source": [
        "<p style='font-size:15px;color:green;font-weight:bold'>예측 모델 생성(Random Forest, LGBM, CatBoost) 및 고도화</p>"
      ]
    },
    {
      "cell_type": "code",
      "execution_count": null,
      "id": "524782bc",
      "metadata": {
        "id": "524782bc"
      },
      "outputs": [],
      "source": [
        "#예측 모델 적용을 위해 문자형 데이터 속성 제거\n",
        "price_kor_num=price_meat_kor.drop(\"PDLT_NM\", axis=1)\n",
        "price_kor_num=price_kor_num.drop(\"SPCS_NM\", axis=1)\n",
        "\n",
        "price_imp_num=price_meat_imp.drop(\"PDLT_NM\", axis=1)\n",
        "price_imp_num=price_imp_num.drop(\"SPCS_NM\", axis=1)"
      ]
    },
    {
      "cell_type": "code",
      "execution_count": null,
      "id": "866afa0b",
      "metadata": {
        "id": "866afa0b"
      },
      "outputs": [],
      "source": [
        "#날짜 데이터 형태 변경(yyyymm -> 0000, 00 , 00 별도 속성 생성)\n",
        "price_kor_num['YEAR'] = price_kor_num[['PRCE_REG_YMD']].applymap(str).applymap(lambda s: \"{}\".format(s[0:4]))\n",
        "price_kor_num['MONTH'] = price_kor_num[['PRCE_REG_YMD']].applymap(str).applymap(lambda s: \"{}\".format(s[5:7]))\n",
        "price_kor_num['DAY'] = price_kor_num[['PRCE_REG_YMD']].applymap(str).applymap(lambda s: \"{}\".format(s[8:]))\n",
        "\n",
        "price_imp_num['YEAR'] = price_imp_num[['PRCE_REG_YMD']].applymap(str).applymap(lambda s: \"{}\".format(s[0:4]))\n",
        "price_imp_num['MONTH'] = price_imp_num[['PRCE_REG_YMD']].applymap(str).applymap(lambda s: \"{}\".format(s[5:7]))\n",
        "price_imp_num['DAY'] = price_imp_num[['PRCE_REG_YMD']].applymap(str).applymap(lambda s: \"{}\".format(s[8:]))"
      ]
    },
    {
      "cell_type": "code",
      "execution_count": null,
      "id": "d9766c0c",
      "metadata": {
        "id": "d9766c0c"
      },
      "outputs": [],
      "source": [
        "#기존 날짜 데이터 제거\n",
        "price_kor_num=price_kor_num.drop(\"PRCE_REG_YMD\", axis=1)\n",
        "price_imp_num=price_imp_num.drop(\"PRCE_REG_YMD\", axis=1)"
      ]
    },
    {
      "cell_type": "code",
      "execution_count": null,
      "id": "79d723ba",
      "metadata": {
        "id": "79d723ba"
      },
      "outputs": [],
      "source": [
        "#날짜 데이터 형태 변환(str -> int)\n",
        "price_kor_num['YEAR']=price_kor_num['YEAR'].astype(int)\n",
        "price_kor_num['MONTH']=price_kor_num['MONTH'].astype(int)\n",
        "price_kor_num['DAY']=price_kor_num['DAY'].astype(int)\n",
        "\n",
        "price_imp_num['YEAR']=price_imp_num['YEAR'].astype(int)\n",
        "price_imp_num['MONTH']=price_imp_num['MONTH'].astype(int)\n",
        "price_imp_num['DAY']=price_imp_num['DAY'].astype(int)"
      ]
    },
    {
      "cell_type": "code",
      "execution_count": null,
      "id": "c029236d",
      "metadata": {
        "id": "c029236d"
      },
      "outputs": [],
      "source": [
        "#국내산 고기 가격 예측 모델 생성 과정\n",
        "\n",
        "#데이터 표준화(MinMaxScaler)\n",
        "from sklearn.preprocessing import MinMaxScaler\n",
        "sc = MinMaxScaler()\n",
        "sc.fit(price_kor_num)\n",
        "price_std_kor = sc.transform(price_kor_num)\n",
        "\n",
        "#표준화된 데이터를 행렬행태로 변환\n",
        "price_std_kor=pd.DataFrame(price_std_kor, columns=['MRKT_ESNT_NO','CTNP_CODE','PDLT_CODE','SPCS_CODE','BULK_GRAD_CODE','PDLT_PRCE','DCNT_PRCE_YN','YEAR','MONTH','DAY'])\n",
        "\n",
        "#표준화된 데이터 세트의 인덱스명을 원본 수치데이터의 인덱스와 동일하게 변경\n",
        "price_std_kor=price_std_kor.set_index(price_kor_num.index)"
      ]
    },
    {
      "cell_type": "code",
      "execution_count": null,
      "id": "77b4e92d",
      "metadata": {
        "id": "77b4e92d",
        "outputId": "21c07f43-30a2-460a-fb09-4786df4b98fe"
      },
      "outputs": [
        {
          "name": "stdout",
          "output_type": "stream",
          "text": [
            "(158671, 9) (68003, 9) (158671,) (68003,)\n"
          ]
        }
      ],
      "source": [
        "#데이터 분할(학습용, 평가용)\n",
        "from sklearn.model_selection import train_test_split\n",
        "feature_columns = list(price_std_kor.columns.difference(['PDLT_PRCE']))\n",
        "X = price_std_kor[feature_columns]\n",
        "y = price_std_kor['PDLT_PRCE']\n",
        "\n",
        "# 학습데이터와 평가데이터의 비율을 7:3 로 분할\n",
        "train_x, test_x, train_y, test_y = train_test_split(X, y, test_size = 0.3, random_state = 0)\n",
        "print(train_x.shape, test_x.shape, train_y.shape, test_y.shape)"
      ]
    },
    {
      "cell_type": "code",
      "execution_count": null,
      "id": "b0d25505",
      "metadata": {
        "id": "b0d25505"
      },
      "outputs": [],
      "source": [
        "\"\"\"\n",
        "모델 성능 측정 지표\n",
        "MEA: 실제값과 예측값의 차이를 절대값으로 변환해서 평균화\n",
        "MSE: 실제값과 예측값의 차이를 제곱해 평균화(차이 면적의 합)\n",
        "RMSE: MSE값에 루트를 씌운 것\n",
        "오차값이기 때문에 값이 작을수록 정확도가 높다\n",
        "\n",
        "R2: 분산 기반으로 예측 성능 평가(1에 가까울 수록 정확도 높음)\n",
        "\"\"\""
      ]
    },
    {
      "cell_type": "code",
      "execution_count": null,
      "id": "1408d718",
      "metadata": {
        "id": "1408d718",
        "outputId": "3c3281e2-e35b-44ba-b678-d757cefd9734"
      },
      "outputs": [
        {
          "name": "stdout",
          "output_type": "stream",
          "text": [
            "MAE:  0.003496696432618309\n",
            "MSE:  0.00012897294749043391\n",
            "RMSE:  0.011356625708828918\n",
            "R2:  0.9962464030207554\n"
          ]
        }
      ],
      "source": [
        "#Random Forests 모델 생성(defalt 값)\n",
        "from sklearn.ensemble import RandomForestRegressor\n",
        "from sklearn.metrics import mean_absolute_error\n",
        "from sklearn.metrics import mean_squared_error\n",
        "from sklearn.metrics import r2_score\n",
        "\n",
        "forest = RandomForestRegressor()\n",
        "forest.fit(train_x, train_y)\n",
        "y_pred = forest.predict(test_x)\n",
        "\n",
        "mae=mean_absolute_error(test_y,y_pred)\n",
        "mse=mean_squared_error(test_y,y_pred)\n",
        "rmse=(np.sqrt(mse))\n",
        "r2=r2_score(test_y, y_pred)\n",
        "\n",
        "print('MAE: ', mae)\n",
        "print('MSE: ', mse)\n",
        "print('RMSE: ', rmse)\n",
        "print('R2: ', r2)"
      ]
    },
    {
      "cell_type": "code",
      "execution_count": null,
      "id": "e073ab28",
      "metadata": {
        "id": "e073ab28",
        "outputId": "3a6c1c4c-2845-41ab-900a-ac5409ac5032"
      },
      "outputs": [
        {
          "name": "stdout",
          "output_type": "stream",
          "text": [
            "MAE:  0.019335363534158278\n",
            "MSE:  0.0008008088239369573\n",
            "RMSE:  0.028298565757595512\n",
            "R2:  0.9766934567211847\n"
          ]
        }
      ],
      "source": [
        "#LGBM 모델 생성(defalt 값)(적은 값(약 1만건 이하)에서는 오버피팅 발생)\n",
        "import lightgbm as lgb\n",
        "from sklearn.metrics import mean_absolute_error\n",
        "from sklearn.metrics import mean_squared_error\n",
        "from sklearn.metrics import r2_score\n",
        "\n",
        "lgbm = lgb.LGBMRegressor()\n",
        "lgbm.fit(train_x, train_y)\n",
        "y_pred = lgbm.predict(test_x)\n",
        "\n",
        "mae=mean_absolute_error(test_y,y_pred)\n",
        "mse=mean_squared_error(test_y,y_pred)\n",
        "rmse=(np.sqrt(mse))\n",
        "r2=r2_score(test_y, y_pred)\n",
        "\n",
        "print('MAE: ', mae)\n",
        "print('MSE: ', mse)\n",
        "print('RMSE: ', rmse)\n",
        "print('R2: ', r2)"
      ]
    },
    {
      "cell_type": "code",
      "execution_count": null,
      "id": "470bd238",
      "metadata": {
        "id": "470bd238"
      },
      "outputs": [],
      "source": [
        "#수입산 고기 가격 예측 모델 생성 과정\n",
        "\n",
        "#데이터 표준화(MinMaxScaler)\n",
        "from sklearn.preprocessing import MinMaxScaler\n",
        "sc = MinMaxScaler()\n",
        "sc.fit(price_imp_num)\n",
        "price_std = sc.transform(price_imp_num)\n",
        "\n",
        "#표준화된 데이터를 행렬행태로 변환\n",
        "price_std=pd.DataFrame(price_std, columns=['MRKT_ESNT_NO','CTNP_CODE','PDLT_CODE','SPCS_CODE','BULK_GRAD_CODE','PDLT_PRCE','DCNT_PRCE_YN','YEAR','MONTH','DAY'])\n",
        "\n",
        "#표준화된 데이터 세트의 인덱스명을 원본 수치데이터의 인덱스와 동일하게 변경\n",
        "price_std=price_std.set_index(price_imp_num.index)"
      ]
    },
    {
      "cell_type": "code",
      "execution_count": null,
      "id": "890483e6",
      "metadata": {
        "id": "890483e6",
        "outputId": "1a5778b1-9eb7-4c1d-aecc-d8049aff7e23"
      },
      "outputs": [
        {
          "name": "stdout",
          "output_type": "stream",
          "text": [
            "(207694, 9) (89012, 9) (207694,) (89012,)\n"
          ]
        }
      ],
      "source": [
        "#데이터 분할(학습용, 평가용)\n",
        "from sklearn.model_selection import train_test_split\n",
        "feature_columns = list(price_std.columns.difference(['PDLT_PRCE']))\n",
        "X = price_std[feature_columns]\n",
        "y = price_std['PDLT_PRCE']\n",
        "\n",
        "# 학습데이터와 평가데이터의 비율을 7:3 로 분할\n",
        "train_x, test_x, train_y, test_y = train_test_split(X, y, test_size = 0.3, random_state = 0)\n",
        "print(train_x.shape, test_x.shape, train_y.shape, test_y.shape)"
      ]
    },
    {
      "cell_type": "code",
      "execution_count": null,
      "id": "19635173",
      "metadata": {
        "id": "19635173",
        "outputId": "ef5bf3b2-3f5e-49bd-8ba9-fff6a749f138"
      },
      "outputs": [
        {
          "name": "stdout",
          "output_type": "stream",
          "text": [
            "MAE:  0.003978038662644173\n",
            "MSE:  0.00012336981854909414\n",
            "RMSE:  0.01110719670074741\n",
            "R2:  0.9886106228587377\n"
          ]
        }
      ],
      "source": [
        "#Random Forests 모델 생성(defalt 값)\n",
        "from sklearn.ensemble import RandomForestRegressor\n",
        "from sklearn.metrics import mean_absolute_error\n",
        "from sklearn.metrics import mean_squared_error\n",
        "from sklearn.metrics import r2_score\n",
        "\n",
        "forest = RandomForestRegressor()\n",
        "forest.fit(train_x, train_y)\n",
        "y_pred = forest.predict(test_x)\n",
        "\n",
        "mae=mean_absolute_error(test_y,y_pred)\n",
        "mse=mean_squared_error(test_y,y_pred)\n",
        "rmse=(np.sqrt(mse))\n",
        "r2=r2_score(test_y, y_pred)\n",
        "\n",
        "print('MAE: ', mae)\n",
        "print('MSE: ', mse)\n",
        "print('RMSE: ', rmse)\n",
        "print('R2: ', r2)"
      ]
    },
    {
      "cell_type": "code",
      "execution_count": null,
      "id": "1cf479e6",
      "metadata": {
        "id": "1cf479e6",
        "outputId": "838c9fc5-9887-4a35-c662-3bd9d3ee4da8"
      },
      "outputs": [
        {
          "name": "stdout",
          "output_type": "stream",
          "text": [
            "MAE:  0.016089267150217277\n",
            "MSE:  0.000585481876885782\n",
            "RMSE:  0.02419673277295474\n",
            "R2:  0.9459489040054582\n"
          ]
        }
      ],
      "source": [
        "#LGBM 모델 생성(defalt 값) 적은 값(약 1만건 이하에서는 오버피팅 발생)\n",
        "from sklearn.metrics import mean_absolute_error\n",
        "from sklearn.metrics import mean_squared_error\n",
        "from sklearn.metrics import r2_score\n",
        "\n",
        "lgbm = lgb.LGBMRegressor()\n",
        "lgbm.fit(train_x, train_y)\n",
        "y_pred = lgbm.predict(test_x)\n",
        "\n",
        "mae=mean_absolute_error(test_y,y_pred)\n",
        "mse=mean_squared_error(test_y,y_pred)\n",
        "rmse=(np.sqrt(mse))\n",
        "r2=r2_score(test_y, y_pred)\n",
        "\n",
        "print('MAE: ', mae)\n",
        "print('MSE: ', mse)\n",
        "print('RMSE: ', rmse)\n",
        "print('R2: ', r2)"
      ]
    },
    {
      "cell_type": "code",
      "execution_count": null,
      "id": "4cb4e030",
      "metadata": {
        "id": "4cb4e030"
      },
      "outputs": [],
      "source": [
        "\"\"\"\n",
        "국내산 고기 가격 예측 정확도\n",
        "1. Random Forest\n",
        "mae:  0.003514168679436696\n",
        "mse:  0.0001297833353849531\n",
        "rmse:  0.011392248916915091\n",
        "r2:  0.9962228176905596\n",
        "\n",
        "2. LGBM\n",
        "mae:  0.019335363534158278\n",
        "mse:  0.0008008088239369573\n",
        "rmse:  0.028298565757595512\n",
        "r2:  0.9766934567211847\n",
        "\n",
        "3. CatBoost\n",
        "mae:  0.015153500069408942\n",
        "mse:  0.0005281883520417612\n",
        "rmse:  0.02298234870594738\n",
        "r2:  0.9846277359611155\n",
        "\n",
        "4. SVR\n",
        "mae:  0.09430699618162655\n",
        "mse:  0.019818838801873503\n",
        "rmse:  0.14077939764707584\n",
        "r2:  0.42319738436337184\n",
        "\n",
        "\n",
        "수입산 고기 가격 예측\n",
        "1. Random Forest\n",
        "mae:  0.003984291924478425\n",
        "mse:  0.00012490289899271502\n",
        "rmse:  0.011175996554791658\n",
        "r2:  0.9884256956791321\n",
        "\n",
        "2. LGBM\n",
        "mae:  0.016000073604489816\n",
        "mse:  0.0005807898866841601\n",
        "rmse:  0.02409958270767691\n",
        "r2:  0.9461802812490611\n",
        "\n",
        "3. CatBoost\n",
        "mae:  0.013168969148709514\n",
        "mse:  0.00044191736662449195\n",
        "rmse:  0.021021830715341895\n",
        "r2:  0.9590491003232299\n",
        "\n",
        "4. SVR\n",
        "mae:  0.046423107528363594\n",
        "mse:  0.005218647516491971\n",
        "rmse:  0.07224020706290903\n",
        "r2:  0.5164066247754378\n",
        "\n",
        "정확도가 가장 우수한 모델: Random Forest\n",
        "                           LGBM, CatBoost 정확도 유사\n",
        "정확도가 가장 떨어지는 모델: SVR\n",
        "\"\"\""
      ]
    },
    {
      "cell_type": "markdown",
      "id": "c88e1342",
      "metadata": {
        "id": "c88e1342"
      },
      "source": [
        "<p style='font-size:15px;color:green;font-weight:bold'>추천 모델 생성(K-means, Random Forest) 및 결과물 출력_트렌드, 레시피 데이터 사용</p>"
      ]
    },
    {
      "cell_type": "code",
      "execution_count": null,
      "id": "5a012fb6",
      "metadata": {
        "id": "5a012fb6",
        "outputId": "a62b5a1c-494e-4d4d-af57-65b733957b95"
      },
      "outputs": [
        {
          "data": {
            "text/html": [
              "<div>\n",
              "<style scoped>\n",
              "    .dataframe tbody tr th:only-of-type {\n",
              "        vertical-align: middle;\n",
              "    }\n",
              "\n",
              "    .dataframe tbody tr th {\n",
              "        vertical-align: top;\n",
              "    }\n",
              "\n",
              "    .dataframe thead th {\n",
              "        text-align: right;\n",
              "    }\n",
              "</style>\n",
              "<table border=\"1\" class=\"dataframe\">\n",
              "  <thead>\n",
              "    <tr style=\"text-align: right;\">\n",
              "      <th></th>\n",
              "      <th>성별</th>\n",
              "      <th>연령대</th>\n",
              "      <th>직업</th>\n",
              "      <th>가구소득(월)</th>\n",
              "      <th>구매시 고려사항</th>\n",
              "      <th>구매목적</th>\n",
              "      <th>재구매의사</th>\n",
              "      <th>익월 국내산 쇠고기 구입의향</th>\n",
              "      <th>익월 수입산 쇠고기 구입의향</th>\n",
              "      <th>익월 국내산 돼지고기 구입의향</th>\n",
              "      <th>익월 수입산 돼지고기 구입의향</th>\n",
              "    </tr>\n",
              "  </thead>\n",
              "  <tbody>\n",
              "    <tr>\n",
              "      <th>1</th>\n",
              "      <td>0</td>\n",
              "      <td>20</td>\n",
              "      <td>1</td>\n",
              "      <td>700</td>\n",
              "      <td>1</td>\n",
              "      <td>1</td>\n",
              "      <td>4</td>\n",
              "      <td>5</td>\n",
              "      <td>3</td>\n",
              "      <td>4</td>\n",
              "      <td>3</td>\n",
              "    </tr>\n",
              "    <tr>\n",
              "      <th>2</th>\n",
              "      <td>0</td>\n",
              "      <td>20</td>\n",
              "      <td>1</td>\n",
              "      <td>700</td>\n",
              "      <td>1</td>\n",
              "      <td>1</td>\n",
              "      <td>4</td>\n",
              "      <td>5</td>\n",
              "      <td>3</td>\n",
              "      <td>4</td>\n",
              "      <td>3</td>\n",
              "    </tr>\n",
              "    <tr>\n",
              "      <th>3</th>\n",
              "      <td>0</td>\n",
              "      <td>20</td>\n",
              "      <td>1</td>\n",
              "      <td>700</td>\n",
              "      <td>1</td>\n",
              "      <td>1</td>\n",
              "      <td>4</td>\n",
              "      <td>5</td>\n",
              "      <td>3</td>\n",
              "      <td>4</td>\n",
              "      <td>3</td>\n",
              "    </tr>\n",
              "  </tbody>\n",
              "</table>\n",
              "</div>"
            ],
            "text/plain": [
              "  성별 연령대 직업 가구소득(월) 구매시 고려사항 구매목적 재구매의사 익월 국내산 쇠고기 구입의향 익월 수입산 쇠고기 구입의향  \\\n",
              "1  0  20  1     700        1    1     4               5               3   \n",
              "2  0  20  1     700        1    1     4               5               3   \n",
              "3  0  20  1     700        1    1     4               5               3   \n",
              "\n",
              "  익월 국내산 돼지고기 구입의향 익월 수입산 돼지고기 구입의향  \n",
              "1                4                3  \n",
              "2                4                3  \n",
              "3                4                3  "
            ]
          },
          "execution_count": 49,
          "metadata": {},
          "output_type": "execute_result"
        }
      ],
      "source": [
        "#예측 모델 적용을 위해 문자형 데이터 속성 제거(수치형 데이터 세트 생성)\n",
        "trend_num=pd.DataFrame(data=trend_data, columns=['성별','연령대','직업',\"가구소득(월)\",\"구매시 고려사항\",\"구매목적\",\"재구매의사\",\"익월 국내산 쇠고기 구입의향\",\"익월 수입산 쇠고기 구입의향\",\"익월 국내산 돼지고기 구입의향\",\"익월 수입산 돼지고기 구입의향\"])\n",
        "trend_num.head(3)"
      ]
    },
    {
      "cell_type": "code",
      "execution_count": null,
      "id": "5e028452",
      "metadata": {
        "id": "5e028452",
        "outputId": "9ec76e58-e094-41f1-e84e-3d0596eafb32"
      },
      "outputs": [
        {
          "name": "stderr",
          "output_type": "stream",
          "text": [
            "C:\\Users\\jungm\\AppData\\Local\\Programs\\Python\\Python310\\lib\\site-packages\\sklearn\\cluster\\_kmeans.py:1318: FutureWarning: algorithm='auto' is deprecated, it will be removed in 1.3. Using 'lloyd' instead.\n",
            "  warnings.warn(\n",
            "C:\\Users\\jungm\\AppData\\Local\\Programs\\Python\\Python310\\lib\\site-packages\\sklearn\\cluster\\_kmeans.py:1318: FutureWarning: algorithm='auto' is deprecated, it will be removed in 1.3. Using 'lloyd' instead.\n",
            "  warnings.warn(\n",
            "C:\\Users\\jungm\\AppData\\Local\\Programs\\Python\\Python310\\lib\\site-packages\\sklearn\\cluster\\_kmeans.py:1318: FutureWarning: algorithm='auto' is deprecated, it will be removed in 1.3. Using 'lloyd' instead.\n",
            "  warnings.warn(\n",
            "C:\\Users\\jungm\\AppData\\Local\\Programs\\Python\\Python310\\lib\\site-packages\\sklearn\\cluster\\_kmeans.py:1318: FutureWarning: algorithm='auto' is deprecated, it will be removed in 1.3. Using 'lloyd' instead.\n",
            "  warnings.warn(\n",
            "C:\\Users\\jungm\\AppData\\Local\\Programs\\Python\\Python310\\lib\\site-packages\\sklearn\\cluster\\_kmeans.py:1318: FutureWarning: algorithm='auto' is deprecated, it will be removed in 1.3. Using 'lloyd' instead.\n",
            "  warnings.warn(\n",
            "C:\\Users\\jungm\\AppData\\Local\\Programs\\Python\\Python310\\lib\\site-packages\\sklearn\\cluster\\_kmeans.py:1318: FutureWarning: algorithm='auto' is deprecated, it will be removed in 1.3. Using 'lloyd' instead.\n",
            "  warnings.warn(\n",
            "C:\\Users\\jungm\\AppData\\Local\\Programs\\Python\\Python310\\lib\\site-packages\\sklearn\\cluster\\_kmeans.py:1318: FutureWarning: algorithm='auto' is deprecated, it will be removed in 1.3. Using 'lloyd' instead.\n",
            "  warnings.warn(\n",
            "C:\\Users\\jungm\\AppData\\Local\\Programs\\Python\\Python310\\lib\\site-packages\\sklearn\\cluster\\_kmeans.py:1318: FutureWarning: algorithm='auto' is deprecated, it will be removed in 1.3. Using 'lloyd' instead.\n",
            "  warnings.warn(\n",
            "C:\\Users\\jungm\\AppData\\Local\\Programs\\Python\\Python310\\lib\\site-packages\\sklearn\\cluster\\_kmeans.py:1318: FutureWarning: algorithm='auto' is deprecated, it will be removed in 1.3. Using 'lloyd' instead.\n",
            "  warnings.warn(\n",
            "C:\\Users\\jungm\\AppData\\Local\\Programs\\Python\\Python310\\lib\\site-packages\\sklearn\\cluster\\_kmeans.py:1318: FutureWarning: algorithm='auto' is deprecated, it will be removed in 1.3. Using 'lloyd' instead.\n",
            "  warnings.warn(\n",
            "C:\\Users\\jungm\\AppData\\Local\\Programs\\Python\\Python310\\lib\\site-packages\\sklearn\\cluster\\_kmeans.py:1318: FutureWarning: algorithm='auto' is deprecated, it will be removed in 1.3. Using 'lloyd' instead.\n",
            "  warnings.warn(\n",
            "C:\\Users\\jungm\\AppData\\Local\\Programs\\Python\\Python310\\lib\\site-packages\\sklearn\\cluster\\_kmeans.py:1318: FutureWarning: algorithm='auto' is deprecated, it will be removed in 1.3. Using 'lloyd' instead.\n",
            "  warnings.warn(\n",
            "C:\\Users\\jungm\\AppData\\Local\\Programs\\Python\\Python310\\lib\\site-packages\\sklearn\\cluster\\_kmeans.py:1318: FutureWarning: algorithm='auto' is deprecated, it will be removed in 1.3. Using 'lloyd' instead.\n",
            "  warnings.warn(\n",
            "C:\\Users\\jungm\\AppData\\Local\\Programs\\Python\\Python310\\lib\\site-packages\\sklearn\\cluster\\_kmeans.py:1318: FutureWarning: algorithm='auto' is deprecated, it will be removed in 1.3. Using 'lloyd' instead.\n",
            "  warnings.warn(\n",
            "C:\\Users\\jungm\\AppData\\Local\\Programs\\Python\\Python310\\lib\\site-packages\\sklearn\\cluster\\_kmeans.py:1318: FutureWarning: algorithm='auto' is deprecated, it will be removed in 1.3. Using 'lloyd' instead.\n",
            "  warnings.warn(\n"
          ]
        },
        {
          "data": {
            "image/png": "[encoded data removed]",
            "text/plain": [
              "<Figure size 800x550 with 1 Axes>"
            ]
          },
          "metadata": {},
          "output_type": "display_data"
        }
      ],
      "source": [
        "#군집화 모델 적용을 위한 군집(k)값 탐색\n",
        "#elbow 기법 적용\n",
        "from sklearn.cluster import KMeans\n",
        "from yellowbrick.cluster import KElbowVisualizer\n",
        "import matplotlib.pyplot as plt\n",
        "def elbow(x):\n",
        "    sse = []\n",
        "    for i in range(1,16):\n",
        "        km = KMeans(n_clusters=i,algorithm='auto', random_state=42) #무작위성 컨트롤\n",
        "        km.fit(x)\n",
        "        sse.append(km.inertia_)\n",
        "\n",
        "    plt.plot(range(1,16), sse, marker='o')\n",
        "    plt.xlabel('K')\n",
        "    plt.ylabel('SSE')\n",
        "    plt.show()\n",
        "elbow(trend_num)\n",
        "\n",
        "#k=3 ~ 6이 가장 적절하다."
      ]
    },
    {
      "cell_type": "code",
      "execution_count": null,
      "id": "7e4c7cdf",
      "metadata": {
        "id": "7e4c7cdf"
      },
      "outputs": [],
      "source": [
        "trend_array=trend_num.to_numpy()"
      ]
    },
    {
      "cell_type": "code",
      "execution_count": null,
      "id": "8d762edf",
      "metadata": {
        "id": "8d762edf",
        "outputId": "4ee68283-4ac4-410b-a77c-a330655e8fa0"
      },
      "outputs": [
        {
          "name": "stdout",
          "output_type": "stream",
          "text": [
            "클러스터 레이블 확인 : \n",
            " [1 1 1 ... 0 0 0]\n",
            "(18512,)\n",
            "[0.41329955 0.41329955 0.41329955 ... 0.8908319  0.89137882 0.83626527]\n",
            "cluster\n",
            "0    0.856860\n",
            "1    0.540665\n",
            "2    0.947989\n",
            "Name: silhouette_score, dtype: float64\n",
            "실루엣 계수:0.769\n"
          ]
        }
      ],
      "source": [
        "#정확한 k값 탐색을 위해 silhouette_score 추출\n",
        "\n",
        "#k=3인 경우\n",
        "#kmeans의 객체 생성\n",
        "from sklearn.cluster import KMeans\n",
        "model = KMeans(n_clusters=3,init='k-means++')\n",
        "model.fit(trend_num)\n",
        "print(\"클러스터 레이블 확인 : \\n {}\".format(model.labels_))\n",
        "\n",
        "#클러스터 계수 출력\n",
        "from sklearn.metrics import silhouette_samples, silhouette_score\n",
        "score_samples = silhouette_samples(trend_num, model.labels_ )\n",
        "print(score_samples.shape)\n",
        "print(score_samples)\n",
        "\n",
        "#기존 데이터에 클러스터 값, 실루엣 계수 행 추가\n",
        "trend_num['cluster']=model.labels_\n",
        "trend_num['silhouette_score']=score_samples\n",
        "trend_num\n",
        "\n",
        "print(trend_num.groupby('cluster')['silhouette_score'].mean())\n",
        "\n",
        "#총 클러스터의 실수엣계수 평균\n",
        "average_score = silhouette_score(trend_array.data,trend_num['cluster'])\n",
        "print(\"실루엣 계수:{0:.3f}\".format(average_score))"
      ]
    },
    {
      "cell_type": "code",
      "execution_count": null,
      "id": "4353a591",
      "metadata": {
        "id": "4353a591",
        "outputId": "d47a2434-33a4-46ba-ba88-4c26c455ee1a"
      },
      "outputs": [
        {
          "name": "stdout",
          "output_type": "stream",
          "text": [
            "클러스터 레이블 확인 : \n",
            " [3 3 3 ... 2 2 2]\n",
            "(18512,)\n",
            "[0.9010136  0.9010136  0.9010136  ... 0.89083718 0.89138408 0.83627312]\n",
            "cluster\n",
            "0    0.944745\n",
            "1    0.792660\n",
            "2    0.856865\n",
            "3    0.939688\n",
            "Name: silhouette_score, dtype: float64\n",
            "실루엣 계수:0.891\n"
          ]
        }
      ],
      "source": [
        "#k=4인 경우\n",
        "#kmeans의 객체 생성\n",
        "from sklearn.cluster import KMeans\n",
        "model = KMeans(n_clusters=4,init='k-means++')\n",
        "model.fit(trend_num)\n",
        "print(\"클러스터 레이블 확인 : \\n {}\".format(model.labels_))\n",
        "\n",
        "#클러스터 계수 출력\n",
        "from sklearn.metrics import silhouette_samples, silhouette_score\n",
        "score_samples = silhouette_samples(trend_num, model.labels_ )\n",
        "print(score_samples.shape)\n",
        "print(score_samples)\n",
        "\n",
        "#기존 데이터에 클러스터 값, 실루엣 계수 행 추가\n",
        "trend_num['cluster']=model.labels_\n",
        "trend_num['silhouette_score']=score_samples\n",
        "trend_num\n",
        "\n",
        "print(trend_num.groupby('cluster')['silhouette_score'].mean())\n",
        "\n",
        "#총 클러스터의 실수엣계수 평균\n",
        "average_score = silhouette_score(trend_array.data,trend_num['cluster'])\n",
        "print(\"실루엣 계수:{0:.3f}\".format(average_score))"
      ]
    },
    {
      "cell_type": "code",
      "execution_count": null,
      "id": "32a8f1b7",
      "metadata": {
        "id": "32a8f1b7",
        "outputId": "b490e11e-674b-4743-a4bb-e2c90fb0d22b"
      },
      "outputs": [
        {
          "name": "stdout",
          "output_type": "stream",
          "text": [
            "클러스터 레이블 확인 : \n",
            " [3 3 3 ... 2 2 2]\n",
            "(18512,)\n",
            "[0.90102284 0.90102284 0.90102284 ... 0.89083718 0.89138408 0.83627312]\n",
            "cluster\n",
            "0    0.886948\n",
            "1    0.944751\n",
            "2    0.856865\n",
            "3    0.939686\n",
            "4    0.899071\n",
            "Name: silhouette_score, dtype: float64\n",
            "실루엣 계수:0.908\n"
          ]
        }
      ],
      "source": [
        "#k=5인 경우\n",
        "#kmeans의 객체 생성\n",
        "from sklearn.cluster import KMeans\n",
        "model = KMeans(n_clusters=5,init='k-means++')\n",
        "model.fit(trend_num)\n",
        "print(\"클러스터 레이블 확인 : \\n {}\".format(model.labels_))\n",
        "\n",
        "#클러스터 계수 출력\n",
        "from sklearn.metrics import silhouette_samples, silhouette_score\n",
        "score_samples = silhouette_samples(trend_num, model.labels_ )\n",
        "print(score_samples.shape)\n",
        "print(score_samples)\n",
        "\n",
        "#기존 데이터에 클러스터 값, 실루엣 계수 행 추가\n",
        "trend_num['cluster']=model.labels_\n",
        "trend_num['silhouette_score']=score_samples\n",
        "trend_num\n",
        "\n",
        "print(trend_num.groupby('cluster')['silhouette_score'].mean())\n",
        "\n",
        "#총 클러스터의 실수엣계수 평균\n",
        "average_score = silhouette_score(trend_array.data,trend_num['cluster'])\n",
        "print(\"실루엣 계수:{0:.3f}\".format(average_score))"
      ]
    },
    {
      "cell_type": "code",
      "execution_count": null,
      "id": "f380baca",
      "metadata": {
        "id": "f380baca",
        "outputId": "27ad132b-105e-406f-b6dc-4f48fa2f259f"
      },
      "outputs": [
        {
          "name": "stdout",
          "output_type": "stream",
          "text": [
            "클러스터 레이블 확인 : \n",
            " [3 3 3 ... 0 0 0]\n",
            "(18512,)\n",
            "[0.90101673 0.90101673 0.90101673 ... 0.89446035 0.89573798 0.77515175]\n",
            "cluster\n",
            "0    0.869812\n",
            "1    0.887036\n",
            "2    0.944742\n",
            "3    0.939685\n",
            "4    0.899150\n",
            "5    0.868228\n",
            "Name: silhouette_score, dtype: float64\n",
            "실루엣 계수:0.912\n"
          ]
        }
      ],
      "source": [
        "#k=6인 경우\n",
        "#kmeans의 객체 생성\n",
        "from sklearn.cluster import KMeans\n",
        "model = KMeans(n_clusters=6,init='k-means++')\n",
        "model.fit(trend_num)\n",
        "print(\"클러스터 레이블 확인 : \\n {}\".format(model.labels_))\n",
        "\n",
        "#클러스터 계수 출력\n",
        "from sklearn.metrics import silhouette_samples, silhouette_score\n",
        "score_samples = silhouette_samples(trend_num, model.labels_ )\n",
        "print(score_samples.shape)\n",
        "print(score_samples)\n",
        "\n",
        "#기존 데이터에 클러스터 값, 실루엣 계수 행 추가\n",
        "trend_num['cluster']=model.labels_\n",
        "trend_num['silhouette_score']=score_samples\n",
        "trend_num\n",
        "\n",
        "print(trend_num.groupby('cluster')['silhouette_score'].mean())\n",
        "\n",
        "#총 클러스터의 실수엣계수 평균\n",
        "average_score = silhouette_score(trend_array.data,trend_num['cluster'])\n",
        "print(\"실루엣 계수:{0:.3f}\".format(average_score))"
      ]
    },
    {
      "cell_type": "code",
      "execution_count": null,
      "id": "9e77cbfa",
      "metadata": {
        "id": "9e77cbfa",
        "outputId": "a8980889-db74-4ac8-eb77-695826c51fe2"
      },
      "outputs": [
        {
          "name": "stdout",
          "output_type": "stream",
          "text": [
            "클러스터 레이블 확인 : \n",
            " [3 3 3 ... 6 6 6]\n",
            "(18512,)\n",
            "[0.90101306 0.90101306 0.90101306 ... 0.33842275 0.33844088 0.54040779]\n",
            "cluster\n",
            "0    0.685213\n",
            "1    0.886997\n",
            "2    0.944659\n",
            "3    0.939682\n",
            "4    0.899115\n",
            "5    0.867096\n",
            "6    0.454853\n",
            "Name: silhouette_score, dtype: float64\n",
            "실루엣 계수:0.833\n"
          ]
        }
      ],
      "source": [
        "#k=7인 경우\n",
        "#kmeans의 객체 생성\n",
        "from sklearn.cluster import KMeans\n",
        "model = KMeans(n_clusters=7,init='k-means++')\n",
        "model.fit(trend_num)\n",
        "print(\"클러스터 레이블 확인 : \\n {}\".format(model.labels_))\n",
        "\n",
        "#클러스터 계수 출력\n",
        "from sklearn.metrics import silhouette_samples, silhouette_score\n",
        "score_samples = silhouette_samples(trend_num, model.labels_ )\n",
        "print(score_samples.shape)\n",
        "print(score_samples)\n",
        "\n",
        "#기존 데이터에 클러스터 값, 실루엣 계수 행 추가\n",
        "trend_num['cluster']=model.labels_\n",
        "trend_num['silhouette_score']=score_samples\n",
        "trend_num\n",
        "\n",
        "print(trend_num.groupby('cluster')['silhouette_score'].mean())\n",
        "\n",
        "#총 클러스터의 실수엣계수 평균\n",
        "average_score = silhouette_score(trend_array.data,trend_num['cluster'])\n",
        "print(\"실루엣 계수:{0:.3f}\".format(average_score))"
      ]
    },
    {
      "cell_type": "code",
      "execution_count": null,
      "id": "e9b5678e",
      "metadata": {
        "id": "e9b5678e",
        "outputId": "305191e7-f1cf-48f3-dd4d-e0c6e33ee8ae"
      },
      "outputs": [
        {
          "data": {
            "text/plain": [
              "'\\nClustering silhouette_score 확인\\nk=3 0.769\\nk=4 0.891\\nk=5 0.908\\nk=6 0.912\\nk=7 0.833\\n\\n가장 적절한 군집(k)값: 6\\n'"
            ]
          },
          "execution_count": 57,
          "metadata": {},
          "output_type": "execute_result"
        }
      ],
      "source": [
        "\"\"\"\n",
        "Clustering silhouette_score 확인\n",
        "k=3 0.769\n",
        "k=4 0.891\n",
        "k=5 0.908\n",
        "k=6 0.912\n",
        "k=7 0.833\n",
        "\n",
        "가장 적절한 군집(k)값: 6\n",
        "\"\"\""
      ]
    },
    {
      "cell_type": "code",
      "execution_count": null,
      "id": "620de194",
      "metadata": {
        "id": "620de194",
        "outputId": "4a28d303-51f2-4d94-ec38-fc5b72a6a59d"
      },
      "outputs": [
        {
          "name": "stderr",
          "output_type": "stream",
          "text": [
            "C:\\Users\\jungm\\AppData\\Local\\Temp\\ipykernel_74904\\2120582081.py:27: FutureWarning: The frame.append method is deprecated and will be removed from pandas in a future version. Use pandas.concat instead.\n",
            "  test = test_x.append(new_data, ignore_index=True)\n"
          ]
        },
        {
          "name": "stdout",
          "output_type": "stream",
          "text": [
            "1 등 음식명: 찹스테이크꼬치구이 난이도: 초급  \n",
            "추천 레시피: [재료] 한우 우둔살 400그램| 파프리카 1개| 피망 1개| 양파 큰것 1/2개| 새송이버섯 1송이| 카놀라유 1큰술| 애호박 1/3개| 후춧가루 2 작은술| 청주 1큰술| 허브솔트 1/2큰술| A1소스 2큰술| 바베큐소스 2큰술 [볶음밥 ] 남은야채| 소고기| 소금 약간| 카놀라유 적당량| 굴소스 약간 \n",
            "\n",
            "2 등 음식명: 짜장떡볶이 난이도: 초급  \n",
            "추천 레시피: [재료] 떡볶이떡 400~500그램 정도| 양파 1/2개| 양배추 큰것 1/8통| 대파 2줄기| 어묵 2장| 쫄면 200그램 정도| 물 또는 육수 1+1/2컵 [양념] 다*다(소고기맛 조미료) 1/2큰술| 춘장 2큰술| 고추장 1큰술| 설탕 2큰술| 다진마늘 1큰술 \n",
            "\n",
            "3 등 음식명: 두부샌드그라탕 난이도: 중급  \n",
            "추천 레시피: [재료] 두부 1모| 쇠고기 100g| 대파 1대| 피자치즈 적당량| 포도씨유 약간| 소금 약간 [쇠고기양념] 진간장 1TS| 핫소스 1TS| 설탕 1TS| 마늘 2알| 청주 1/2TS| 참기름 1/2TS| 후춧가루 조금 \n",
            "\n",
            "4 등 음식명: 소고기콩나물두부국 난이도: 초급  \n",
            "추천 레시피: [재료] 소고기 100g| 콩나물 200g| 두부 1/2모| 청양고추 2개 [양념] 다진마늘 1큰술| 고추가루 1큰술| 꽃소금 3/4큰술| 청주 2큰술| 생강가루 1/3작은술| 새우젓 1작은술 \n",
            "\n",
            "5 등 음식명: 어니언스테이크 난이도: 초급  \n",
            "추천 레시피: [재료] 스테이크용 쇠고기 300g| 양파 1/3개| 양송이버섯 3개 [머쉬룸 볶음밥 재료] 밥 1/3공기| 양송이버섯 1개| 양파 1/5개| 당근 1/6개| 소금 약간 [소고기 밑간] 로즈마리 조금| 소금 약간| 후춧가루 약간 [스테이크소스] 다진마늘 1/2큰술| 타바스코소스 1큰술| 우스터소스 2큰술| 꿀 1큰술| 레몬즙 1/2큰술| 물 1/2컵 \n",
            "\n"
          ]
        }
      ],
      "source": [
        "#이용자 입력 정보를 활용한 레시피 추천 모델\n",
        "#레시피 인기순으로 추천 나열\n",
        "\n",
        "#이용자 정보를 받을 속성들만 빼 데이터 추출\n",
        "trend_reg=trend_num[['성별','연령대','직업','가구소득(월)','구매목적','cluster']]\n",
        "trend_data_str['cluster']=trend_num['cluster']\n",
        "\n",
        "#추출된 데이터를 학습용, 평가용으로 분리(7:3)\n",
        "from sklearn.model_selection import train_test_split\n",
        "feature_columns = list(trend_reg.columns.difference(['cluster']))\n",
        "X = trend_reg[feature_columns]\n",
        "y = trend_reg['cluster']\n",
        "\n",
        "train_x, test_x, train_y, test_y = train_test_split(X, y, test_size = 0.3, random_state = 0)\n",
        "\n",
        "#예측 모델에 데이터 적용(군집 예측)_Random Forest 사용\n",
        "from sklearn.ensemble import RandomForestRegressor\n",
        "forest = RandomForestRegressor()\n",
        "forest.fit(train_x, train_y)\n",
        "\n",
        "#이용자 데이터를 평가용 데이터 세트에 추가\n",
        "new_data = {'성별' : 1,\n",
        "    '연령대' : 20,\n",
        "    '직업' : 1,\n",
        "    '가구소득(월)' : 700,\n",
        "    '구매목적' : 1}\n",
        "test = test_x.append(new_data, ignore_index=True)\n",
        "\n",
        "#예측 모델에 평가용 데이터 적용\n",
        "num=forest.predict(test[-1:])\n",
        "num=num[0]\n",
        "num.dtype\n",
        "\n",
        "#이용자와 동일한 조건의 데이터들을 재구매, 구입의향이 높은 순으로 정렬\n",
        "trend_reg_result=trend_data_str[(trend_data_str['cluster']==num)]\n",
        "trend_reg_result.sort_values(by=['재구매의사','익월 국내산 쇠고기 구입의향','익월 수입산 쇠고기 구입의향','익월 국내산 돼지고기 구입의향','익월 수입산 돼지고기 구입의향'],axis=0,inplace=False)\n",
        "\n",
        "#레시피 추천 내역 출력\n",
        "for i in range(1,6): #상위 5개만 출력\n",
        "    meat_row=trend_reg_result.head(i)\n",
        "    meat_list=list(meat_row['육종'])\n",
        "\n",
        "    if meat_list[0]==\"쇠고기\":\n",
        "        recipe_data_meat=recipe_data[recipe_data['CKG_MTRL_CN'].str.contains('쇠고기')|recipe_data['CKG_MTRL_CN'].str.contains('소고기')|recipe_data['CKG_MTRL_CN'].str.contains('한우')]\n",
        "        recipe_data_meat.sort_values(by=['INQ_CNT','RCMM_CNT','SRAP_CNT'],axis=0)\n",
        "    elif meat_list[0]==\"돼지고기\":\n",
        "        recipe_data_meat=recipe_data[recipe_data['CKG_MTRL_CN'].str.contains('돼지고기')|recipe_data['CKG_MTRL_CN'].str.contains('한돈')]\n",
        "        recipe_data_meat.sort_values(by=['INQ_CNT','RCMM_CNT','SRAP_CNT'],axis=0)\n",
        "    elif meat_list[0]==\"닭고기\":\n",
        "        recipe_data_meat=recipe_data[recipe_data['CKG_MTRL_CN'].str.contains('닭고기')]\n",
        "        recipe_data_meat.sort_values(by=['INQ_CNT','RCMM_CNT','SRAP_CNT'],axis=0)\n",
        "\n",
        "    CKG_MTRL_CN=list(recipe_data_meat['CKG_MTRL_CN'])\n",
        "    CKG_DODF_NM=list(recipe_data_meat['CKG_DODF_NM'])\n",
        "    CKG_NM=list(recipe_data_meat['CKG_NM'])\n",
        "\n",
        "    print(i,\"등\",\"음식명:\",CKG_NM[i],\"난이도:\",CKG_DODF_NM[i],\" \\n추천 레시피:\",CKG_MTRL_CN[i],\"\\n\")"
      ]
    },
    {
      "cell_type": "code",
      "execution_count": null,
      "id": "5875cb24",
      "metadata": {
        "id": "5875cb24",
        "outputId": "ad90a984-5743-4103-8814-396c1013274d"
      },
      "outputs": [
        {
          "name": "stderr",
          "output_type": "stream",
          "text": [
            "C:\\Users\\jungm\\AppData\\Local\\Temp\\ipykernel_74904\\3373540256.py:27: FutureWarning: The frame.append method is deprecated and will be removed from pandas in a future version. Use pandas.concat instead.\n",
            "  test = test_x.append(new_data, ignore_index=True)\n"
          ]
        },
        {
          "name": "stdout",
          "output_type": "stream",
          "text": [
            "1 등 음식명: 스테이크떡볶이 난이도: 초급  \n",
            "추천 레시피: [재료] 떡볶이| 한우채끝등심 [양념] 까르보나라소스| 고추장 \n",
            "\n",
            "2 등 음식명: 고추전 난이도: 초급  \n",
            "추천 레시피: [재료] 소고기 200g| 돼지고기 200g| 양파 1/2| 당근 1/3| 표고 3장| 부추 1줌 [양념] 소금 1/2| 후추 약간| 식용유 3스푼| 계란 3개 \n",
            "\n",
            "3 등 음식명: 소고기짜장 난이도: 초급  \n",
            "추천 레시피: [재료] 춘장 200g| 식용유 2T| 전분가루 2T| 소고기 간것 200g| 감자 1개| 양파 1개| 애호박 1/3개| 당근 1/4개| 우동면 1개| 달걀 2개 [양념] 다진마늘 0.5T| 맛소금 1꼬집| 후추 약간 \n",
            "\n",
            "4 등 음식명: 된장찌개 난이도: 초급  \n",
            "추천 레시피: [재료] 소고기 국거리용 1+1/2컵 | 두부 1모| 대파 1개| 애호박 1/3개| 양파 1/2개| 청양고추 취향껏| 감자 1개| 무 1/5개 [양념] 쌀뜨물| 된장 2T| 다진마늘 1T| 고추장 1T| 고춧가루 2T \n",
            "\n",
            "5 등 음식명: 감자스테이크 난이도: 초급  \n",
            "추천 레시피: [재료] 감자 중간 크기(310g) 2개| 다진 쇠고기 100g| 양파 1/2개| 달걀 1개| 빵가루 2/3컵| 식용유 3큰술| 가쓰오부시 1줌 [쇠고기 밑간] 간장 1/2큰술| 다진마늘 1/2작은술| 설탕 1+1/2작은술| 참기름 1작은술 [소스] 버터 1+1/2큰술| 소금 2/3작은술| 시판돈까스소스 \n",
            "\n"
          ]
        }
      ],
      "source": [
        "#이용자 입력 정보를 활용한 레시피 추천 모델\n",
        "#난이도 낮은(초급) 레시피만 출력\n",
        "\n",
        "#이용자 정보를 받을 속성들만 빼 데이터 추출\n",
        "trend_reg=trend_num[['성별','연령대','직업','가구소득(월)','구매목적','cluster']]\n",
        "trend_data_str['cluster']=trend_num['cluster']\n",
        "\n",
        "#추출된 데이터를 학습용, 평가용으로 분리(7:3)\n",
        "from sklearn.model_selection import train_test_split\n",
        "feature_columns = list(trend_reg.columns.difference(['cluster']))\n",
        "X = trend_reg[feature_columns]\n",
        "y = trend_reg['cluster']\n",
        "\n",
        "train_x, test_x, train_y, test_y = train_test_split(X, y, test_size = 0.3, random_state = 0)\n",
        "\n",
        "#예측 모델에 데이터 적용(군집 예측)_Random Forest 사용\n",
        "from sklearn.ensemble import RandomForestRegressor\n",
        "forest = RandomForestRegressor()\n",
        "forest.fit(train_x, train_y)\n",
        "\n",
        "#이용자 데이터를 평가용 데이터 세트에 추가\n",
        "new_data = {'성별' : 1,\n",
        "    '연령대' : 20,\n",
        "    '직업' : 1,\n",
        "    '가구소득(월)' : 700,\n",
        "    '구매목적' : 1}\n",
        "test = test_x.append(new_data, ignore_index=True)\n",
        "\n",
        "#예측 모델에 평가용 데이터 적용\n",
        "num=forest.predict(test[-1:])\n",
        "num=num[0]\n",
        "num.dtype\n",
        "\n",
        "#이용자와 동일한 조건의 데이터들을 재구매, 구입의향이 높은 순으로 정렬\n",
        "trend_reg_result=trend_data_str[(trend_data_str['cluster']==num)]\n",
        "trend_reg_result.sort_values(by=['재구매의사','익월 국내산 쇠고기 구입의향','익월 수입산 쇠고기 구입의향','익월 국내산 돼지고기 구입의향','익월 수입산 돼지고기 구입의향'],axis=0,inplace=False)\n",
        "\n",
        "#레시피 추천 내역 출력\n",
        "for i in range(1,6): #상위 5개만 출력\n",
        "    meat_row=trend_reg_result.head(i)\n",
        "    meat_list=list(meat_row['육종'])\n",
        "\n",
        "    if meat_list[0]==\"쇠고기\":\n",
        "        recipe_data_meat=recipe_data[recipe_data['CKG_MTRL_CN'].str.contains('쇠고기')|recipe_data['CKG_MTRL_CN'].str.contains('소고기')|recipe_data['CKG_MTRL_CN'].str.contains('한우')]\n",
        "        recipe_data_meat=recipe_data_meat[recipe_data_meat['CKG_DODF_NM']=='초급']\n",
        "        recipe_data_meat=recipe_data_meat.sample(frac=1).reset_index(drop=True)\n",
        "    elif meat_list[0]==\"돼지고기\":\n",
        "        recipe_data_meat=recipe_data[recipe_data['CKG_MTRL_CN'].str.contains('돼지고기')|recipe_data['CKG_MTRL_CN'].str.contains('한돈')]\n",
        "        recipe_data_meat=recipe_data_meat[recipe_data_meat['CKG_DODF_NM']=='초급']\n",
        "        recipe_data_meat=recipe_data_meat.sample(frac=1).reset_index(drop=True)\n",
        "    elif meat_list[0]==\"닭고기\":\n",
        "        recipe_data_meat=recipe_data[recipe_data['CKG_MTRL_CN'].str.contains('닭고기')]\n",
        "        recipe_data_meat=recipe_data_meat[recipe_data_meat['CKG_DODF_NM']=='초급']\n",
        "        recipe_data_meat=recipe_data_meat.sample(frac=1).reset_index(drop=True)\n",
        "        #위 추천 모델 코드를 실행시 인기순 나열 데이터와 동일하게 출력되므로 랜덤하게 행의 순서를 섞는 코드 추가\n",
        "\n",
        "    CKG_MTRL_CN=list(recipe_data_meat['CKG_MTRL_CN'])\n",
        "    CKG_DODF_NM=list(recipe_data_meat['CKG_DODF_NM'])\n",
        "    CKG_NM=list(recipe_data_meat['CKG_NM'])\n",
        "\n",
        "    print(i,\"등\",\"음식명:\",CKG_NM[i],\"난이도:\",CKG_DODF_NM[i],\" \\n추천 레시피:\",CKG_MTRL_CN[i],\"\\n\")"
      ]
    },
    {
      "cell_type": "code",
      "execution_count": null,
      "id": "575cf5f0",
      "metadata": {
        "id": "575cf5f0",
        "outputId": "3232d47e-387b-4b00-f0ec-91c10099fd95"
      },
      "outputs": [
        {
          "name": "stderr",
          "output_type": "stream",
          "text": [
            "C:\\Users\\jungm\\AppData\\Local\\Temp\\ipykernel_74904\\3005394997.py:27: FutureWarning: The frame.append method is deprecated and will be removed from pandas in a future version. Use pandas.concat instead.\n",
            "  test = test_x.append(new_data, ignore_index=True)\n"
          ]
        },
        {
          "name": "stdout",
          "output_type": "stream",
          "text": [
            "1 등 음식명: 탕국 난이도: 고급  \n",
            "추천 레시피: [재료] 쇠고기앞다리살450g| 바지락살 200g| 고사리 200g| 무우 400g| 물 400L| 대파 3뿌리| 다시마 5쪽| 표고버섯 5장 [양념] 간장 4-5스픈| 참기름 3스푼 \n",
            "\n",
            "2 등 음식명: 새우고기김치만두 난이도: 고급  \n",
            "추천 레시피: [재료] 다진 돼지고기 300g| 다진 소고기 300g| 새우 2컵| 두부 1/2모| 김치 1포기| 숙주 1봉| 당면 1줌| 계란 2개| 왕만두피 53개 [양념] 조미료 1/2t| 소금 1T| 마늘 1T| 참기름| 파| 후추 \n",
            "\n",
            "3 등 음식명: 육포 난이도: 고급  \n",
            "추천 레시피: [재료] 소고기홍두깨살 ? 3kg| 진간장 1컵| 설탕 1컵| 맛간장 2 컵 [ ] 계피| 후추 1/2 작은술| 월계수잎 5잎| 감초 80g| 양파 2 개| 파 1 대| 마늘 2 큰 술 \n",
            "\n",
            "4 등 음식명: 만두 난이도: 고급  \n",
            "추천 레시피: [재료] 다진돼지고기 1.5kg| 다진소고기 1kg| 숙주나물 900g| 두부 3모| 알배추 10장| 팽이버섯 1뭉치| 새우 20마리| 부추 1줌| 당면 3뭉치| 대파 3대 [양념] 간장 5큰술| 소금 1큰술| 생강가루 1큰술| 다진마늘 2큰술| 굴소스 2큰술| 후추 톡톡 \n",
            "\n",
            "5 등 음식명: 양파부추김밥 난이도: 고급  \n",
            "추천 레시피: [재료] 귀리현미강황밥| 계란| 양파| 부추| 햄| 맛살| 다진소고기| 당근| 어묵| 김밥김| 파래김 [양념] 맛소금| 참기름| 올리브오일| 통깨| 맛술 \n",
            "\n"
          ]
        }
      ],
      "source": [
        "#이용자 입력 정보를 활용한 레시피 추천 모델\n",
        "#난이도 높은(고급) 레시피만 출력\n",
        "\n",
        "#이용자 정보를 받을 속성들만 빼 데이터 추출\n",
        "trend_reg=trend_num[['성별','연령대','직업','가구소득(월)','구매목적','cluster']]\n",
        "trend_data_str['cluster']=trend_num['cluster']\n",
        "\n",
        "#추출된 데이터를 학습용, 평가용으로 분리(7:3)\n",
        "from sklearn.model_selection import train_test_split\n",
        "feature_columns = list(trend_reg.columns.difference(['cluster']))\n",
        "X = trend_reg[feature_columns]\n",
        "y = trend_reg['cluster']\n",
        "\n",
        "train_x, test_x, train_y, test_y = train_test_split(X, y, test_size = 0.3, random_state = 0)\n",
        "\n",
        "#예측 모델에 데이터 적용(군집 예측)_Random Forest 사용\n",
        "from sklearn.ensemble import RandomForestRegressor\n",
        "forest = RandomForestRegressor()\n",
        "forest.fit(train_x, train_y)\n",
        "\n",
        "#이용자 데이터를 평가용 데이터 세트에 추가\n",
        "new_data = {'성별' : 1,\n",
        "    '연령대' : 20,\n",
        "    '직업' : 1,\n",
        "    '가구소득(월)' : 700,\n",
        "    '구매목적' : 1}\n",
        "test = test_x.append(new_data, ignore_index=True)\n",
        "\n",
        "#예측 모델에 평가용 데이터 적용\n",
        "num=forest.predict(test[-1:])\n",
        "num=num[0]\n",
        "num.dtype\n",
        "\n",
        "#이용자와 동일한 조건의 데이터들을 재구매, 구입의향이 높은 순으로 정렬\n",
        "trend_reg_result=trend_data_str[(trend_data_str['cluster']==num)]\n",
        "trend_reg_result.sort_values(by=['재구매의사','익월 국내산 쇠고기 구입의향','익월 수입산 쇠고기 구입의향','익월 국내산 돼지고기 구입의향','익월 수입산 돼지고기 구입의향'],axis=0,inplace=False)\n",
        "\n",
        "#레시피 추천 내역 출력\n",
        "for i in range(1,6): #상위 5개만 출력\n",
        "    meat_row=trend_reg_result.head(i)\n",
        "    meat_list=list(meat_row['육종'])\n",
        "\n",
        "    if meat_list[0]==\"쇠고기\":\n",
        "        recipe_data_meat=recipe_data[recipe_data['CKG_MTRL_CN'].str.contains('쇠고기')|recipe_data['CKG_MTRL_CN'].str.contains('소고기')|recipe_data['CKG_MTRL_CN'].str.contains('한우')]\n",
        "        recipe_data_meat=recipe_data_meat[recipe_data_meat['CKG_DODF_NM']=='고급']\n",
        "        recipe_data_meat=recipe_data_meat.sample(frac=1).reset_index(drop=True)\n",
        "    elif meat_list[0]==\"돼지고기\":\n",
        "        recipe_data_meat=recipe_data[recipe_data['CKG_MTRL_CN'].str.contains('돼지고기')|recipe_data['CKG_MTRL_CN'].str.contains('한돈')]\n",
        "        recipe_data_meat=recipe_data_meat[recipe_data_meat['CKG_DODF_NM']=='고급']\n",
        "        recipe_data_meat=recipe_data_meat.sample(frac=1).reset_index(drop=True)\n",
        "    elif meat_list[0]==\"닭고기\":\n",
        "        recipe_data_meat=recipe_data[recipe_data['CKG_MTRL_CN'].str.contains('닭고기')]\n",
        "        recipe_data_meat=recipe_data_meat[recipe_data_meat['CKG_DODF_NM']=='고급']\n",
        "        recipe_data_meat=recipe_data_meat.sample(frac=1).reset_index(drop=True)\n",
        "        #위 추천 모델 코드를 실행시 인기순 나열 데이터와 동일하게 출력되므로 랜덤하게 행의 순서를 섞는 코드 추가\n",
        "\n",
        "    CKG_MTRL_CN=list(recipe_data_meat['CKG_MTRL_CN'])\n",
        "    CKG_DODF_NM=list(recipe_data_meat['CKG_DODF_NM'])\n",
        "    CKG_NM=list(recipe_data_meat['CKG_NM'])\n",
        "\n",
        "    print(i,\"등\",\"음식명:\",CKG_NM[i],\"난이도:\",CKG_DODF_NM[i],\" \\n추천 레시피:\",CKG_MTRL_CN[i],\"\\n\")"
      ]
    },
    {
      "cell_type": "markdown",
      "id": "1a986f71",
      "metadata": {
        "id": "1a986f71"
      },
      "source": [
        "<p style='font-size:15px;color:green;font-weight:bold'>추천 모델 생성(Random Forest) 및 결과물 출력_가격, 레시피 데이터 사용</p>"
      ]
    },
    {
      "cell_type": "code",
      "execution_count": null,
      "id": "bd3d82f7",
      "metadata": {
        "id": "bd3d82f7",
        "outputId": "8f247a08-4f75-40d8-a928-b0c05f194c19"
      },
      "outputs": [
        {
          "name": "stdout",
          "output_type": "stream",
          "text": [
            "오늘의 추천 고기: 앞다리살  예상 가격(100g 기준): 1270.0358333333331 \n",
            "\n",
            "추천 레시피 목록\n",
            "음식명: 돼지고기호박까나페 난이도: 초급  \n",
            "추천 레시피: [재료] 돼지고기 뒷다리살 500g| 애호박  [양념] 고추장 2스푼| 조청(물엿이나 설탕으로 대체가능} 2스푼| 마늘 1스푼| 생강즙 1스푼| 후추 약간| 간장 1스푼| 참기름 1스푼| 갈은사과 1/2개 \n",
            "\n",
            "음식명: 콩불 난이도: 초급  \n",
            "추천 레시피: [재료] 돼지고기 적당량| 콩나물 1~2주먹| 고추장 2큰술| 설탕 or 올리고당 3큰술| 양파 1/2~1개| 미림 3큰술| 간장 2큰술 [양념] 고추장 2큰술| 설탕 or올리고당 3큰술| 미림 3큰술| 간장 2큰술 \n",
            "\n",
            "음식명: 마파두부 난이도: 초급  \n",
            "추천 레시피: [식재료] 다진돼지고기 250g| 두부 500g| 감자 1주먹크기| 대파 1단소| 홍고추 2개| 전분 2T [양념] 두반장 4T| 굴소스 2T| 진간장 2T| 맛술 1T \n",
            "\n"
          ]
        },
        {
          "name": "stderr",
          "output_type": "stream",
          "text": [
            "C:\\Users\\jungm\\AppData\\Local\\Temp\\ipykernel_16740\\3735582523.py:40: FutureWarning: The frame.append method is deprecated and will be removed from pandas in a future version. Use pandas.concat instead.\n",
            "  test = test_x.append(new_data, ignore_index=True)\n",
            "C:\\Users\\jungm\\AppData\\Local\\Temp\\ipykernel_16740\\3735582523.py:40: FutureWarning: The frame.append method is deprecated and will be removed from pandas in a future version. Use pandas.concat instead.\n",
            "  test = test_x.append(new_data, ignore_index=True)\n",
            "C:\\Users\\jungm\\AppData\\Local\\Temp\\ipykernel_16740\\3735582523.py:40: FutureWarning: The frame.append method is deprecated and will be removed from pandas in a future version. Use pandas.concat instead.\n",
            "  test = test_x.append(new_data, ignore_index=True)\n",
            "C:\\Users\\jungm\\AppData\\Local\\Temp\\ipykernel_16740\\3735582523.py:40: FutureWarning: The frame.append method is deprecated and will be removed from pandas in a future version. Use pandas.concat instead.\n",
            "  test = test_x.append(new_data, ignore_index=True)\n",
            "C:\\Users\\jungm\\AppData\\Local\\Temp\\ipykernel_16740\\3735582523.py:40: FutureWarning: The frame.append method is deprecated and will be removed from pandas in a future version. Use pandas.concat instead.\n",
            "  test = test_x.append(new_data, ignore_index=True)\n",
            "C:\\Users\\jungm\\AppData\\Local\\Temp\\ipykernel_16740\\3735582523.py:40: FutureWarning: The frame.append method is deprecated and will be removed from pandas in a future version. Use pandas.concat instead.\n",
            "  test = test_x.append(new_data, ignore_index=True)\n",
            "C:\\Users\\jungm\\AppData\\Local\\Temp\\ipykernel_16740\\3735582523.py:40: FutureWarning: The frame.append method is deprecated and will be removed from pandas in a future version. Use pandas.concat instead.\n",
            "  test = test_x.append(new_data, ignore_index=True)\n",
            "C:\\Users\\jungm\\AppData\\Local\\Temp\\ipykernel_16740\\3735582523.py:40: FutureWarning: The frame.append method is deprecated and will be removed from pandas in a future version. Use pandas.concat instead.\n",
            "  test = test_x.append(new_data, ignore_index=True)\n",
            "C:\\Users\\jungm\\AppData\\Local\\Temp\\ipykernel_16740\\3735582523.py:40: FutureWarning: The frame.append method is deprecated and will be removed from pandas in a future version. Use pandas.concat instead.\n",
            "  test = test_x.append(new_data, ignore_index=True)\n",
            "C:\\Users\\jungm\\AppData\\Local\\Temp\\ipykernel_16740\\3735582523.py:40: FutureWarning: The frame.append method is deprecated and will be removed from pandas in a future version. Use pandas.concat instead.\n",
            "  test = test_x.append(new_data, ignore_index=True)\n",
            "C:\\Users\\jungm\\AppData\\Local\\Temp\\ipykernel_16740\\3735582523.py:40: FutureWarning: The frame.append method is deprecated and will be removed from pandas in a future version. Use pandas.concat instead.\n",
            "  test = test_x.append(new_data, ignore_index=True)\n",
            "C:\\Users\\jungm\\AppData\\Local\\Temp\\ipykernel_16740\\3735582523.py:40: FutureWarning: The frame.append method is deprecated and will be removed from pandas in a future version. Use pandas.concat instead.\n",
            "  test = test_x.append(new_data, ignore_index=True)\n",
            "C:\\Users\\jungm\\AppData\\Local\\Temp\\ipykernel_16740\\3735582523.py:40: FutureWarning: The frame.append method is deprecated and will be removed from pandas in a future version. Use pandas.concat instead.\n",
            "  test = test_x.append(new_data, ignore_index=True)\n",
            "C:\\Users\\jungm\\AppData\\Local\\Temp\\ipykernel_16740\\3735582523.py:40: FutureWarning: The frame.append method is deprecated and will be removed from pandas in a future version. Use pandas.concat instead.\n",
            "  test = test_x.append(new_data, ignore_index=True)\n",
            "C:\\Users\\jungm\\AppData\\Local\\Temp\\ipykernel_16740\\3735582523.py:40: FutureWarning: The frame.append method is deprecated and will be removed from pandas in a future version. Use pandas.concat instead.\n",
            "  test = test_x.append(new_data, ignore_index=True)\n",
            "C:\\Users\\jungm\\AppData\\Local\\Temp\\ipykernel_16740\\3735582523.py:40: FutureWarning: The frame.append method is deprecated and will be removed from pandas in a future version. Use pandas.concat instead.\n",
            "  test = test_x.append(new_data, ignore_index=True)\n",
            "C:\\Users\\jungm\\AppData\\Local\\Temp\\ipykernel_16740\\3735582523.py:40: FutureWarning: The frame.append method is deprecated and will be removed from pandas in a future version. Use pandas.concat instead.\n",
            "  test = test_x.append(new_data, ignore_index=True)\n"
          ]
        }
      ],
      "source": [
        "#가격 예측 모델을 활용한 추천 모델\n",
        "#인덱스를 랜덤 배치시켜 레시피가 랜덤하게 출력되도록 설정\n",
        "\n",
        "#가격 예측에 필요한 데이터만 추출\n",
        "#현재 생성된 고기 가격 관련 데이터 세트: price_kor_num, price_imp_num\n",
        "price_reg_kor=price_kor_num[['CTNP_CODE','SPCS_CODE','PDLT_PRCE','DCNT_PRCE_YN','YEAR','MONTH','DAY']]\n",
        "price_reg_imp=price_imp_num[['CTNP_CODE','SPCS_CODE','PDLT_PRCE','DCNT_PRCE_YN','YEAR','MONTH','DAY']]\n",
        "price_reg=pd.concat([price_reg_kor,price_reg_imp])\n",
        "\n",
        "#추출된 데이터를 학습용, 평가용으로 분리(7:3)\n",
        "from sklearn.model_selection import train_test_split\n",
        "feature_columns = list(price_reg.columns.difference(['PDLT_PRCE']))\n",
        "X = price_reg[feature_columns]\n",
        "y = price_reg['PDLT_PRCE']\n",
        "\n",
        "train_x, test_x, train_y, test_y = train_test_split(X, y, test_size = 0.3, random_state = 0)\n",
        "\n",
        "#예측 모델에 데이터 적용(군집 예측)_Random Forest 사용\n",
        "from sklearn.ensemble import RandomForestRegressor\n",
        "forest = RandomForestRegressor()\n",
        "forest.fit(train_x, train_y)\n",
        "\n",
        "#리스트 값 안에 17종의 부위 데이터를 넣어 입력 날짜에 각 부위의 가격이 어떻게 되는지 예측->가장 낮은값 정렬해 출력\n",
        "#이용자 데이터를 평가용 데이터 세트에 추가\n",
        "SPCS_CODE_list=[0.0,1.0,2.0,3.0,4.0,11.0,12.0,13.0,14.0,15.0,16.0,21.0,22.0,23.0,31.0,32.0,33.0]\n",
        "SPCS_NM_list=['삼겹살(국산냉장)','삼겹살(수입냉동)','목살/도계','돼지갈비','앞다리살',\n",
        "              '한우갈비','한우등심','한우불고기','한우양지','한우안심','한우설도',\n",
        "              '미국산갈비','미국산갈비살','미국산 불고기','호주산갈비','호주산등심','호주산불고기']\n",
        "SPCS_CODE_list = list(map(int, SPCS_CODE_list))\n",
        "SPCS_CODE_dict={} #각 부위별 예측 가격 데이터를 넣을 빈 딕셔너리 생성\n",
        "\n",
        "#고기 가격을 예측할 지역, 고기 부위 코드, 날짜, 할인여부 등을 입력\n",
        "for i,j in enumerate(SPCS_CODE_list):\n",
        "    new_data = {'CTNP_CODE' : 1,\n",
        "        'SPCS_CODE' : j,\n",
        "        'DCNT_PRCE_YN' : 0,\n",
        "        'YEAR' : 2022,\n",
        "        'MONTH' : 12,\n",
        "        'DAY' : 10}\n",
        "    test = test_x.append(new_data, ignore_index=True)\n",
        "\n",
        "    #예측 모델에 평가용 데이터 적용\n",
        "    #입력된 값 빈 리스트에 넣기(반복문 실행)\n",
        "    num=forest.predict(test[-1:])\n",
        "    num=num[0] #예측된 가격\n",
        "    meat=SPCS_NM_list[i] #딕셔너리에 추가할 고기 부위 명\n",
        "    SPCS_CODE_dict[meat]=num\n",
        "\n",
        "#예측값이 저렴한 부위 순으로 데이터 정렬\n",
        "SPCS_CODE_dict=sorted(SPCS_CODE_dict.items(), key=lambda item: item[1],reverse=False)\n",
        "SPCS_CODE_dict=dict(SPCS_CODE_dict) #정렬하면서 리스트형태로 변환된 dict파일 형태 재변환\n",
        "n=0\n",
        "\n",
        "#레시피 추천 내역 출력\n",
        "for key, value in SPCS_CODE_dict.items():\n",
        "    n+=1 #1번만 작동시키기 위해 조건 삽입\n",
        "    if (key=='한우등심')or(key=='한우양지')or(key=='한우안심')or(key=='한우불고기')or(key=='한우설도')or(key=='한우갈비'):\n",
        "        recipe_data_meat=recipe_data[recipe_data['CKG_MTRL_CN'].str.contains('쇠고기')|recipe_data['CKG_MTRL_CN'].str.contains('소고기')|recipe_data['CKG_MTRL_CN'].str.contains('한우')]\n",
        "        recipe_data_meat=recipe_data_meat.sample(frac=1).reset_index(drop=True)\n",
        "    elif (key=='삼겹살(국산냉장)')or(key=='앞다리살')or(key=='돼지갈비')or(key=='삼겹살(수입냉동)')or(key=='호주산갈비')or(key=='호주산불고기')or(key=='미국산갈비')or(key=='미국산갈비살')or(key=='미국산불고기')or(key=='호주산등심'):\n",
        "        recipe_data_meat=recipe_data[recipe_data['CKG_MTRL_CN'].str.contains('돼지고기')|recipe_data['CKG_MTRL_CN'].str.contains('한돈')]\n",
        "        recipe_data_meat=recipe_data_meat.sample(frac=1).reset_index(drop=True)\n",
        "    elif key=='목살/도계':\n",
        "        recipe_data_meat=recipe_data[recipe_data['CKG_MTRL_CN'].str.contains('닭고기')]\n",
        "        recipe_data_meat=recipe_data_meat.sample(frac=1).reset_index(drop=True)\n",
        "\n",
        "    CKG_MTRL_CN=list(recipe_data_meat['CKG_MTRL_CN'])\n",
        "    CKG_DODF_NM=list(recipe_data_meat['CKG_DODF_NM'])\n",
        "    CKG_NM=list(recipe_data_meat['CKG_NM'])\n",
        "    BEST_MEAT= next(iter(SPCS_CODE_dict))\n",
        "    #가격이 가장 낮은(정렬시 가장 앞에 위치한 고기 데이터)의 가격(value 값) 추출\n",
        "    PRICE=SPCS_CODE_dict[BEST_MEAT]\n",
        "\n",
        "    if n==1: #반복문 중단을 위한 조건문(1번만 작동되면 중단(저렴한 가격 순 부위 데이터 중 가장 상단의 데이터만 인식))\n",
        "        break\n",
        "\n",
        "print(\"오늘의 추천 고기:\",BEST_MEAT,\" 예상 가격(100g 기준):\",PRICE,\"\\n\\n추천 레시피 목록\")\n",
        "for i in range(3):\n",
        "    print(\"음식명:\",CKG_NM[i],\"난이도:\",CKG_DODF_NM[i],\" \\n추천 레시피:\",CKG_MTRL_CN[i],\"\\n\")"
      ]
    },
    {
      "cell_type": "code",
      "execution_count": null,
      "id": "a793be35",
      "metadata": {
        "id": "a793be35",
        "outputId": "7faa23dd-d5b3-4c44-a52e-83d3092cba0b"
      },
      "outputs": [
        {
          "data": {
            "text/plain": [
              "{'앞다리살': 1270.0358333333331,\n",
              " '돼지갈비': 1288.3214285714284,\n",
              " '삼겹살(수입냉동)': 1292.9516666666668,\n",
              " '호주산불고기': 1839.3782864357865,\n",
              " '목살/도계': 1856.2488607226107,\n",
              " '삼겹살(국산냉장)': 2156.662380952381,\n",
              " '호주산등심': 2773.161666666667,\n",
              " '호주산갈비': 3408.2425,\n",
              " '미국산갈비': 4011.6383333333333,\n",
              " '한우불고기': 4177.551785714286,\n",
              " '미국산갈비살': 4211.8583730158725,\n",
              " '미국산 불고기': 4211.8583730158725,\n",
              " '한우설도': 5365.024713203462,\n",
              " '한우갈비': 7262.303095238096,\n",
              " '한우양지': 7403.154188311691,\n",
              " '한우등심': 12489.699047619046,\n",
              " '한우안심': 18252.34285714286}"
            ]
          },
          "execution_count": 109,
          "metadata": {},
          "output_type": "execute_result"
        }
      ],
      "source": [
        "#예측 모델에 적용한 고기 부위, 예상 가격(2022년 12월 10일로 가정) 딕셔너리 확인\n",
        "SPCS_CODE_dict"
      ]
    }
  ],
  "metadata": {
    "kernelspec": {
      "display_name": "Python 3 (ipykernel)",
      "language": "python",
      "name": "python3"
    },
    "language_info": {
      "codemirror_mode": {
        "name": "ipython",
        "version": 3
      },
      "file_extension": ".py",
      "mimetype": "text/x-python",
      "name": "python",
      "nbconvert_exporter": "python",
      "pygments_lexer": "ipython3",
      "version": "3.10.7"
    },
    "colab": {
      "provenance": []
    }
  },
  "nbformat": 4,
  "nbformat_minor": 5
}